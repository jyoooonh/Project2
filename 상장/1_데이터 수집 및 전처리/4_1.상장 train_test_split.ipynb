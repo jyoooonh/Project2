{
 "cells": [
  {
   "cell_type": "markdown",
   "metadata": {},
   "source": [
    "목표 : 상장기업 train_test_split\n",
    "====================="
   ]
  },
  {
   "cell_type": "markdown",
   "metadata": {},
   "source": [
    "import modules"
   ]
  },
  {
   "cell_type": "code",
   "execution_count": 1,
   "metadata": {},
   "outputs": [
    {
     "name": "stdout",
     "output_type": "stream",
     "text": [
      "현재 디렉토리: /Users/haph/Study/ubion/Project2/상장/2.데이터전처리\n"
     ]
    }
   ],
   "source": [
    "import pandas as pd\n",
    "import numpy as np\n",
    "\n",
    "#워닝 메시지\n",
    "import warnings\n",
    "warnings.filterwarnings('ignore')\n",
    "\n",
    "import os\n",
    "current_directory = os.getcwd()\n",
    "print(\"현재 디렉토리:\", current_directory)\n",
    "\n",
    "from sklearn.model_selection import train_test_split"
   ]
  },
  {
   "cell_type": "markdown",
   "metadata": {},
   "source": [
    "환경설정"
   ]
  },
  {
   "cell_type": "code",
   "execution_count": 2,
   "metadata": {},
   "outputs": [],
   "source": [
    "# pd.set_option('display.max_rows', None)\n",
    "pd.reset_option('display.max_rows')\n",
    "\n",
    "# pd.set_option('display.max_columns', None)\n",
    "pd.reset_option('display.max_columns')\n",
    "\n",
    "pd.set_option('display.max_seq_items', None)\n",
    "\n",
    "pd.set_option('float_format', '{:.3f}'.format) # 소수점 3개까지 출력"
   ]
  },
  {
   "cell_type": "markdown",
   "metadata": {},
   "source": [
    "load file"
   ]
  },
  {
   "cell_type": "code",
   "execution_count": 3,
   "metadata": {},
   "outputs": [
    {
     "data": {
      "text/html": [
       "<div>\n",
       "<style scoped>\n",
       "    .dataframe tbody tr th:only-of-type {\n",
       "        vertical-align: middle;\n",
       "    }\n",
       "\n",
       "    .dataframe tbody tr th {\n",
       "        vertical-align: top;\n",
       "    }\n",
       "\n",
       "    .dataframe thead th {\n",
       "        text-align: right;\n",
       "    }\n",
       "</style>\n",
       "<table border=\"1\" class=\"dataframe\">\n",
       "  <thead>\n",
       "    <tr style=\"text-align: right;\">\n",
       "      <th></th>\n",
       "      <th>회사명</th>\n",
       "      <th>거래소코드</th>\n",
       "      <th>회계년도</th>\n",
       "      <th>CASH FLOW 대 부채비율</th>\n",
       "      <th>CASH FLOW 대 차입금비율</th>\n",
       "      <th>CASH FLOW 대 총자본비율</th>\n",
       "      <th>CASH FLOW 대 매출액비율</th>\n",
       "      <th>유동비율</th>\n",
       "      <th>당좌비율</th>\n",
       "      <th>부채비율</th>\n",
       "      <th>...</th>\n",
       "      <th>PCR</th>\n",
       "      <th>PSR</th>\n",
       "      <th>쭈피처</th>\n",
       "      <th>영업투자현금비율</th>\n",
       "      <th>영업재무현금비율</th>\n",
       "      <th>부실판단</th>\n",
       "      <th>도입기</th>\n",
       "      <th>성숙기</th>\n",
       "      <th>성장기</th>\n",
       "      <th>쇠퇴기</th>\n",
       "    </tr>\n",
       "  </thead>\n",
       "  <tbody>\n",
       "    <tr>\n",
       "      <th>0</th>\n",
       "      <td>(주)CMG제약</td>\n",
       "      <td>58820</td>\n",
       "      <td>2022</td>\n",
       "      <td>19</td>\n",
       "      <td>79</td>\n",
       "      <td>2</td>\n",
       "      <td>6</td>\n",
       "      <td>617</td>\n",
       "      <td>520</td>\n",
       "      <td>15</td>\n",
       "      <td>...</td>\n",
       "      <td>60479.048</td>\n",
       "      <td>3632.941</td>\n",
       "      <td>0.461</td>\n",
       "      <td>-0.454</td>\n",
       "      <td>0.877</td>\n",
       "      <td>0.000</td>\n",
       "      <td>0</td>\n",
       "      <td>0</td>\n",
       "      <td>1</td>\n",
       "      <td>0</td>\n",
       "    </tr>\n",
       "    <tr>\n",
       "      <th>1</th>\n",
       "      <td>(주)ES큐브</td>\n",
       "      <td>50120</td>\n",
       "      <td>2020</td>\n",
       "      <td>3</td>\n",
       "      <td>270</td>\n",
       "      <td>3</td>\n",
       "      <td>24</td>\n",
       "      <td>62</td>\n",
       "      <td>60</td>\n",
       "      <td>929</td>\n",
       "      <td>...</td>\n",
       "      <td>-2022.628</td>\n",
       "      <td>938.209</td>\n",
       "      <td>0.153</td>\n",
       "      <td>-207.944</td>\n",
       "      <td>0.594</td>\n",
       "      <td>1.000</td>\n",
       "      <td>0</td>\n",
       "      <td>0</td>\n",
       "      <td>0</td>\n",
       "      <td>1</td>\n",
       "    </tr>\n",
       "    <tr>\n",
       "      <th>2</th>\n",
       "      <td>(주)MH에탄올</td>\n",
       "      <td>23150</td>\n",
       "      <td>2022</td>\n",
       "      <td>6</td>\n",
       "      <td>9</td>\n",
       "      <td>5</td>\n",
       "      <td>19</td>\n",
       "      <td>28</td>\n",
       "      <td>23</td>\n",
       "      <td>369</td>\n",
       "      <td>...</td>\n",
       "      <td>3407.741</td>\n",
       "      <td>507.129</td>\n",
       "      <td>0.080</td>\n",
       "      <td>-0.980</td>\n",
       "      <td>-1.458</td>\n",
       "      <td>0.000</td>\n",
       "      <td>0</td>\n",
       "      <td>1</td>\n",
       "      <td>0</td>\n",
       "      <td>0</td>\n",
       "    </tr>\n",
       "    <tr>\n",
       "      <th>3</th>\n",
       "      <td>(주)강원에너지</td>\n",
       "      <td>114190</td>\n",
       "      <td>2018</td>\n",
       "      <td>-16</td>\n",
       "      <td>-28</td>\n",
       "      <td>-7</td>\n",
       "      <td>-8</td>\n",
       "      <td>162</td>\n",
       "      <td>161</td>\n",
       "      <td>87</td>\n",
       "      <td>...</td>\n",
       "      <td>-4138.892</td>\n",
       "      <td>490.136</td>\n",
       "      <td>0.062</td>\n",
       "      <td>12.700</td>\n",
       "      <td>-0.609</td>\n",
       "      <td>1.000</td>\n",
       "      <td>1</td>\n",
       "      <td>0</td>\n",
       "      <td>0</td>\n",
       "      <td>0</td>\n",
       "    </tr>\n",
       "    <tr>\n",
       "      <th>4</th>\n",
       "      <td>(주)고려시멘트</td>\n",
       "      <td>198440</td>\n",
       "      <td>2022</td>\n",
       "      <td>0</td>\n",
       "      <td>7</td>\n",
       "      <td>0</td>\n",
       "      <td>0</td>\n",
       "      <td>402</td>\n",
       "      <td>335</td>\n",
       "      <td>25</td>\n",
       "      <td>...</td>\n",
       "      <td>-5781.497</td>\n",
       "      <td>1088.800</td>\n",
       "      <td>0.038</td>\n",
       "      <td>-0.879</td>\n",
       "      <td>14.436</td>\n",
       "      <td>0.000</td>\n",
       "      <td>0</td>\n",
       "      <td>0</td>\n",
       "      <td>0</td>\n",
       "      <td>1</td>\n",
       "    </tr>\n",
       "    <tr>\n",
       "      <th>...</th>\n",
       "      <td>...</td>\n",
       "      <td>...</td>\n",
       "      <td>...</td>\n",
       "      <td>...</td>\n",
       "      <td>...</td>\n",
       "      <td>...</td>\n",
       "      <td>...</td>\n",
       "      <td>...</td>\n",
       "      <td>...</td>\n",
       "      <td>...</td>\n",
       "      <td>...</td>\n",
       "      <td>...</td>\n",
       "      <td>...</td>\n",
       "      <td>...</td>\n",
       "      <td>...</td>\n",
       "      <td>...</td>\n",
       "      <td>...</td>\n",
       "      <td>...</td>\n",
       "      <td>...</td>\n",
       "      <td>...</td>\n",
       "      <td>...</td>\n",
       "    </tr>\n",
       "    <tr>\n",
       "      <th>725</th>\n",
       "      <td>(주)한중엔시에스</td>\n",
       "      <td>107640</td>\n",
       "      <td>2016</td>\n",
       "      <td>2</td>\n",
       "      <td>2</td>\n",
       "      <td>1</td>\n",
       "      <td>1</td>\n",
       "      <td>83</td>\n",
       "      <td>58</td>\n",
       "      <td>363</td>\n",
       "      <td>...</td>\n",
       "      <td>18230918.925</td>\n",
       "      <td>268881.490</td>\n",
       "      <td>0.116</td>\n",
       "      <td>-0.134</td>\n",
       "      <td>0.292</td>\n",
       "      <td>1.000</td>\n",
       "      <td>0</td>\n",
       "      <td>0</td>\n",
       "      <td>1</td>\n",
       "      <td>0</td>\n",
       "    </tr>\n",
       "    <tr>\n",
       "      <th>726</th>\n",
       "      <td>도부마스크 (주)</td>\n",
       "      <td>227420</td>\n",
       "      <td>2018</td>\n",
       "      <td>-28</td>\n",
       "      <td>-77</td>\n",
       "      <td>-18</td>\n",
       "      <td>-21</td>\n",
       "      <td>139</td>\n",
       "      <td>139</td>\n",
       "      <td>169</td>\n",
       "      <td>...</td>\n",
       "      <td>-5380708.257</td>\n",
       "      <td>342291.871</td>\n",
       "      <td>0.127</td>\n",
       "      <td>-43.094</td>\n",
       "      <td>-1.011</td>\n",
       "      <td>1.000</td>\n",
       "      <td>0</td>\n",
       "      <td>0</td>\n",
       "      <td>0</td>\n",
       "      <td>1</td>\n",
       "    </tr>\n",
       "    <tr>\n",
       "      <th>727</th>\n",
       "      <td>에이치엔에스하이텍(주)</td>\n",
       "      <td>44990</td>\n",
       "      <td>2021</td>\n",
       "      <td>13</td>\n",
       "      <td>44</td>\n",
       "      <td>6</td>\n",
       "      <td>5</td>\n",
       "      <td>189</td>\n",
       "      <td>150</td>\n",
       "      <td>99</td>\n",
       "      <td>...</td>\n",
       "      <td>16297442.427</td>\n",
       "      <td>885738.679</td>\n",
       "      <td>0.159</td>\n",
       "      <td>-1.933</td>\n",
       "      <td>1.476</td>\n",
       "      <td>1.000</td>\n",
       "      <td>0</td>\n",
       "      <td>0</td>\n",
       "      <td>1</td>\n",
       "      <td>0</td>\n",
       "    </tr>\n",
       "    <tr>\n",
       "      <th>728</th>\n",
       "      <td>에이펙스인텍(주)</td>\n",
       "      <td>207490</td>\n",
       "      <td>2022</td>\n",
       "      <td>3</td>\n",
       "      <td>4</td>\n",
       "      <td>2</td>\n",
       "      <td>2</td>\n",
       "      <td>123</td>\n",
       "      <td>89</td>\n",
       "      <td>219</td>\n",
       "      <td>...</td>\n",
       "      <td>5973645.681</td>\n",
       "      <td>1154390.267</td>\n",
       "      <td>0.295</td>\n",
       "      <td>-1.762</td>\n",
       "      <td>7.074</td>\n",
       "      <td>0.000</td>\n",
       "      <td>0</td>\n",
       "      <td>0</td>\n",
       "      <td>1</td>\n",
       "      <td>0</td>\n",
       "    </tr>\n",
       "    <tr>\n",
       "      <th>729</th>\n",
       "      <td>태양기계(주)</td>\n",
       "      <td>116100</td>\n",
       "      <td>2022</td>\n",
       "      <td>27</td>\n",
       "      <td>3</td>\n",
       "      <td>34</td>\n",
       "      <td>90</td>\n",
       "      <td>65</td>\n",
       "      <td>444</td>\n",
       "      <td>43</td>\n",
       "      <td>...</td>\n",
       "      <td>2105904.893</td>\n",
       "      <td>225141.184</td>\n",
       "      <td>0.065</td>\n",
       "      <td>-8.531</td>\n",
       "      <td>-2.228</td>\n",
       "      <td>0.000</td>\n",
       "      <td>0</td>\n",
       "      <td>1</td>\n",
       "      <td>0</td>\n",
       "      <td>0</td>\n",
       "    </tr>\n",
       "  </tbody>\n",
       "</table>\n",
       "<p>730 rows × 58 columns</p>\n",
       "</div>"
      ],
      "text/plain": [
       "              회사명   거래소코드  회계년도  CASH FLOW 대 부채비율  CASH FLOW 대 차입금비율  \\\n",
       "0        (주)CMG제약   58820  2022                19                 79   \n",
       "1         (주)ES큐브   50120  2020                 3                270   \n",
       "2        (주)MH에탄올   23150  2022                 6                  9   \n",
       "3        (주)강원에너지  114190  2018               -16                -28   \n",
       "4        (주)고려시멘트  198440  2022                 0                  7   \n",
       "..            ...     ...   ...               ...                ...   \n",
       "725     (주)한중엔시에스  107640  2016                 2                  2   \n",
       "726     도부마스크 (주)  227420  2018               -28                -77   \n",
       "727  에이치엔에스하이텍(주)   44990  2021                13                 44   \n",
       "728     에이펙스인텍(주)  207490  2022                 3                  4   \n",
       "729       태양기계(주)  116100  2022                27                  3   \n",
       "\n",
       "     CASH FLOW 대 총자본비율  CASH FLOW 대 매출액비율  유동비율  당좌비율  부채비율  ...          PCR  \\\n",
       "0                    2                  6   617   520    15  ...    60479.048   \n",
       "1                    3                 24    62    60   929  ...    -2022.628   \n",
       "2                    5                 19    28    23   369  ...     3407.741   \n",
       "3                   -7                 -8   162   161    87  ...    -4138.892   \n",
       "4                    0                  0   402   335    25  ...    -5781.497   \n",
       "..                 ...                ...   ...   ...   ...  ...          ...   \n",
       "725                  1                  1    83    58   363  ... 18230918.925   \n",
       "726                -18                -21   139   139   169  ... -5380708.257   \n",
       "727                  6                  5   189   150    99  ... 16297442.427   \n",
       "728                  2                  2   123    89   219  ...  5973645.681   \n",
       "729                 34                 90    65   444    43  ...  2105904.893   \n",
       "\n",
       "            PSR   쭈피처  영업투자현금비율  영업재무현금비율  부실판단  도입기  성숙기  성장기  쇠퇴기  \n",
       "0      3632.941 0.461    -0.454     0.877 0.000    0    0    1    0  \n",
       "1       938.209 0.153  -207.944     0.594 1.000    0    0    0    1  \n",
       "2       507.129 0.080    -0.980    -1.458 0.000    0    1    0    0  \n",
       "3       490.136 0.062    12.700    -0.609 1.000    1    0    0    0  \n",
       "4      1088.800 0.038    -0.879    14.436 0.000    0    0    0    1  \n",
       "..          ...   ...       ...       ...   ...  ...  ...  ...  ...  \n",
       "725  268881.490 0.116    -0.134     0.292 1.000    0    0    1    0  \n",
       "726  342291.871 0.127   -43.094    -1.011 1.000    0    0    0    1  \n",
       "727  885738.679 0.159    -1.933     1.476 1.000    0    0    1    0  \n",
       "728 1154390.267 0.295    -1.762     7.074 0.000    0    0    1    0  \n",
       "729  225141.184 0.065    -8.531    -2.228 0.000    0    1    0    0  \n",
       "\n",
       "[730 rows x 58 columns]"
      ]
     },
     "execution_count": 3,
     "metadata": {},
     "output_type": "execute_result"
    }
   ],
   "source": [
    "listed = pd.read_csv(\"../datasets/Feature/4.상장_Clean_Feature.csv\")\n",
    "listed\n",
    "# 영업년수와 상장년수가 있더라"
   ]
  },
  {
   "cell_type": "code",
   "execution_count": 4,
   "metadata": {},
   "outputs": [
    {
     "data": {
      "text/plain": [
       "Index(['회사명', '거래소코드', '회계년도', 'CASH FLOW 대 부채비율', 'CASH FLOW 대 차입금비율',\n",
       "       'CASH FLOW 대 총자본비율', 'CASH FLOW 대 매출액비율', '유동비율', '당좌비율', '부채비율',\n",
       "       '유동부채비율', '차입금의존도', '순운전자본비율', '현금비율', '유동자산구성비율', '자기자본구성비율',\n",
       "       '자기자본순이익률', '경영자본순이익률', '매출액순이익률', '총자본사업이익률', '총자본영업이익률', '매출액영업이익률',\n",
       "       '금융비용부담률', 'CROE', '총자산증가율', '총자본증가율', '유동자산증가율', '비유동자산증가율', '매출액증가율',\n",
       "       '유형자산증가율', '부가가치', '총자본투자효율', '설비투자효율', '부가가치율', '이윤분배율', '자본분배율',\n",
       "       '총자산회전율', '매출채권회전률', '당좌자산회전률', '유형자산회전율', '경영자본회전률', '총자본회전률',\n",
       "       '비유동자산회전률', '유동자산회전률', '영업년수', '상장년수', 'PER', 'PBR', 'PCR', 'PSR',\n",
       "       '쭈피처', '영업투자현금비율', '영업재무현금비율', '부실판단', '도입기', '성숙기', '성장기', '쇠퇴기'],\n",
       "      dtype='object')"
      ]
     },
     "execution_count": 4,
     "metadata": {},
     "output_type": "execute_result"
    }
   ],
   "source": [
    "listed.columns"
   ]
  },
  {
   "cell_type": "markdown",
   "metadata": {},
   "source": [
    "# train test split"
   ]
  },
  {
   "cell_type": "code",
   "execution_count": 5,
   "metadata": {},
   "outputs": [],
   "source": [
    "X = listed.drop('부실판단', axis=1)\n",
    "y = listed['부실판단']\n",
    "# 데이터를 학습용과 테스트용으로 나눔\n",
    "listed_X_train, listed_X_test, listed_y_train, listed_y_test = train_test_split(X, y, test_size= 1 / (np.exp(1) + 1) , random_state=911, stratify=y)"
   ]
  },
  {
   "cell_type": "code",
   "execution_count": 6,
   "metadata": {},
   "outputs": [],
   "source": [
    "# train data에 부실판단도 넣기\n",
    "listed_X_train['부실판단'] = listed_y_train"
   ]
  },
  {
   "cell_type": "code",
   "execution_count": 7,
   "metadata": {},
   "outputs": [
    {
     "data": {
      "text/plain": [
       "730"
      ]
     },
     "execution_count": 7,
     "metadata": {},
     "output_type": "execute_result"
    }
   ],
   "source": [
    "# 원래 데이터 길이\n",
    "len(X)"
   ]
  },
  {
   "cell_type": "code",
   "execution_count": 8,
   "metadata": {},
   "outputs": [
    {
     "data": {
      "text/plain": [
       "533"
      ]
     },
     "execution_count": 8,
     "metadata": {},
     "output_type": "execute_result"
    }
   ],
   "source": [
    "# train data 길이\n",
    "len(listed_X_train)"
   ]
  },
  {
   "cell_type": "code",
   "execution_count": 9,
   "metadata": {},
   "outputs": [
    {
     "data": {
      "text/plain": [
       "197"
      ]
     },
     "execution_count": 9,
     "metadata": {},
     "output_type": "execute_result"
    }
   ],
   "source": [
    "# test data 길이\n",
    "len(listed_X_test)"
   ]
  },
  {
   "cell_type": "code",
   "execution_count": 10,
   "metadata": {},
   "outputs": [
    {
     "data": {
      "text/plain": [
       "446   0.000\n",
       "628   0.000\n",
       "619   0.000\n",
       "174   1.000\n",
       "247   1.000\n",
       "       ... \n",
       "582   0.000\n",
       "472   1.000\n",
       "591   1.000\n",
       "551   0.000\n",
       "719   1.000\n",
       "Name: 부실판단, Length: 197, dtype: float64"
      ]
     },
     "execution_count": 10,
     "metadata": {},
     "output_type": "execute_result"
    }
   ],
   "source": [
    "# test에도 부실판단 넣기\n",
    "listed_X_test['부실판단'] = listed_y_test\n",
    "listed_X_test['부실판단']"
   ]
  },
  {
   "cell_type": "markdown",
   "metadata": {},
   "source": [
    "# to_csv"
   ]
  },
  {
   "cell_type": "code",
   "execution_count": 11,
   "metadata": {},
   "outputs": [],
   "source": [
    "# train data 원본\n",
    "# 결측치나 이상치는 다음에서 처리\n",
    "listed_X_train.to_csv('../datasets/Train_Test/listed_train_data.csv', index=False)"
   ]
  },
  {
   "cell_type": "code",
   "execution_count": 12,
   "metadata": {},
   "outputs": [],
   "source": [
    "# test data 원본\n",
    "listed_X_test.to_csv(\"../datasets/Train_Test/listed_test_data.csv\", index=False)"
   ]
  }
 ],
 "metadata": {
  "kernelspec": {
   "display_name": "Python 3",
   "language": "python",
   "name": "python3"
  },
  "language_info": {
   "codemirror_mode": {
    "name": "ipython",
    "version": 3
   },
   "file_extension": ".py",
   "mimetype": "text/x-python",
   "name": "python",
   "nbconvert_exporter": "python",
   "pygments_lexer": "ipython3",
   "version": "3.11.4"
  }
 },
 "nbformat": 4,
 "nbformat_minor": 2
}
