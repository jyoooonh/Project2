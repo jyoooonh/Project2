{
 "cells": [
  {
   "cell_type": "code",
   "execution_count": 1,
   "metadata": {},
   "outputs": [],
   "source": [
    "import pandas as pd\n",
    "import numpy as np\n",
    "import platform\n",
    "import pandas as pd\n",
    "import numpy as np\n",
    "import seaborn as sns\n",
    "import matplotlib.pyplot as plt\n",
    "\n",
    "if platform.system() == \"Darwin\":  # MAC인 경우\n",
    "    plt.rc(\"font\", family=\"AppleGothic\")\n",
    "else:\n",
    "    plt.rc(\"font\", family=\"Malgun Gothic\")\n",
    "\n",
    "# 멧플로립에서 음수를 표시\n",
    "plt.rc(\"axes\", unicode_minus=False)\n",
    "\n",
    "# 워닝 메시지\n",
    "import warnings\n",
    "\n",
    "warnings.filterwarnings(\"ignore\")"
   ]
  },
  {
   "cell_type": "code",
   "execution_count": 3,
   "metadata": {},
   "outputs": [
    {
     "data": {
      "text/html": [
       "<div>\n",
       "<style scoped>\n",
       "    .dataframe tbody tr th:only-of-type {\n",
       "        vertical-align: middle;\n",
       "    }\n",
       "\n",
       "    .dataframe tbody tr th {\n",
       "        vertical-align: top;\n",
       "    }\n",
       "\n",
       "    .dataframe thead th {\n",
       "        text-align: right;\n",
       "    }\n",
       "</style>\n",
       "<table border=\"1\" class=\"dataframe\">\n",
       "  <thead>\n",
       "    <tr style=\"text-align: right;\">\n",
       "      <th></th>\n",
       "      <th>회사명</th>\n",
       "      <th>거래소코드</th>\n",
       "      <th>회계년도</th>\n",
       "      <th>매출액(영업수익)(*)(천원)</th>\n",
       "      <th>판매비와관리비(영업비용)(*)(천원)</th>\n",
       "      <th>매출액(영업수익)(*)(연결)(천원)</th>\n",
       "      <th>판매비와관리비(영업비용)(*)(연결)(천원)</th>\n",
       "      <th>매출액(수익)(*)(3개월)(IFRS)(천원)</th>\n",
       "      <th>판매비와 관리비(물류원가 등 포함)(*)(3개월)(IFRS)(천원)</th>\n",
       "      <th>매출액(수익)(*)(3개월)(IFRS연결)(천원)</th>\n",
       "      <th>판매비와 관리비(물류원가 등 포함)(*)(3개월)(IFRS연결)(천원)</th>\n",
       "    </tr>\n",
       "  </thead>\n",
       "  <tbody>\n",
       "    <tr>\n",
       "      <th>0</th>\n",
       "      <td>(주)가이아코퍼레이션</td>\n",
       "      <td>296520</td>\n",
       "      <td>2017/12</td>\n",
       "      <td>32290724.0</td>\n",
       "      <td>7812197.0</td>\n",
       "      <td>NaN</td>\n",
       "      <td>NaN</td>\n",
       "      <td>NaN</td>\n",
       "      <td>NaN</td>\n",
       "      <td>NaN</td>\n",
       "      <td>NaN</td>\n",
       "    </tr>\n",
       "    <tr>\n",
       "      <th>1</th>\n",
       "      <td>(주)가이아코퍼레이션</td>\n",
       "      <td>296520</td>\n",
       "      <td>2018/12</td>\n",
       "      <td>32601806.0</td>\n",
       "      <td>8227651.0</td>\n",
       "      <td>NaN</td>\n",
       "      <td>NaN</td>\n",
       "      <td>NaN</td>\n",
       "      <td>NaN</td>\n",
       "      <td>NaN</td>\n",
       "      <td>NaN</td>\n",
       "    </tr>\n",
       "    <tr>\n",
       "      <th>2</th>\n",
       "      <td>(주)가이아코퍼레이션</td>\n",
       "      <td>296520</td>\n",
       "      <td>2019/12</td>\n",
       "      <td>43168760.0</td>\n",
       "      <td>12849421.0</td>\n",
       "      <td>NaN</td>\n",
       "      <td>NaN</td>\n",
       "      <td>NaN</td>\n",
       "      <td>NaN</td>\n",
       "      <td>NaN</td>\n",
       "      <td>NaN</td>\n",
       "    </tr>\n",
       "    <tr>\n",
       "      <th>3</th>\n",
       "      <td>(주)가이아코퍼레이션</td>\n",
       "      <td>296520</td>\n",
       "      <td>2020/12</td>\n",
       "      <td>32823843.0</td>\n",
       "      <td>9867986.0</td>\n",
       "      <td>NaN</td>\n",
       "      <td>NaN</td>\n",
       "      <td>NaN</td>\n",
       "      <td>NaN</td>\n",
       "      <td>NaN</td>\n",
       "      <td>NaN</td>\n",
       "    </tr>\n",
       "    <tr>\n",
       "      <th>4</th>\n",
       "      <td>(주)가이아코퍼레이션</td>\n",
       "      <td>296520</td>\n",
       "      <td>2021/12</td>\n",
       "      <td>31864093.0</td>\n",
       "      <td>11892168.0</td>\n",
       "      <td>32011281.0</td>\n",
       "      <td>12436747.0</td>\n",
       "      <td>NaN</td>\n",
       "      <td>NaN</td>\n",
       "      <td>NaN</td>\n",
       "      <td>NaN</td>\n",
       "    </tr>\n",
       "    <tr>\n",
       "      <th>...</th>\n",
       "      <td>...</td>\n",
       "      <td>...</td>\n",
       "      <td>...</td>\n",
       "      <td>...</td>\n",
       "      <td>...</td>\n",
       "      <td>...</td>\n",
       "      <td>...</td>\n",
       "      <td>...</td>\n",
       "      <td>...</td>\n",
       "      <td>...</td>\n",
       "      <td>...</td>\n",
       "    </tr>\n",
       "    <tr>\n",
       "      <th>10040</th>\n",
       "      <td>휴마시스(주)</td>\n",
       "      <td>205470</td>\n",
       "      <td>2018/12</td>\n",
       "      <td>9657735.0</td>\n",
       "      <td>4711632.0</td>\n",
       "      <td>NaN</td>\n",
       "      <td>NaN</td>\n",
       "      <td>3330410.0</td>\n",
       "      <td>1145117.0</td>\n",
       "      <td>NaN</td>\n",
       "      <td>NaN</td>\n",
       "    </tr>\n",
       "    <tr>\n",
       "      <th>10041</th>\n",
       "      <td>휴마시스(주)</td>\n",
       "      <td>205470</td>\n",
       "      <td>2019/12</td>\n",
       "      <td>9150652.0</td>\n",
       "      <td>4816364.0</td>\n",
       "      <td>NaN</td>\n",
       "      <td>NaN</td>\n",
       "      <td>2824862.0</td>\n",
       "      <td>1621855.0</td>\n",
       "      <td>NaN</td>\n",
       "      <td>NaN</td>\n",
       "    </tr>\n",
       "    <tr>\n",
       "      <th>10042</th>\n",
       "      <td>휴마시스(주)</td>\n",
       "      <td>205470</td>\n",
       "      <td>2020/12</td>\n",
       "      <td>45717212.0</td>\n",
       "      <td>5355223.0</td>\n",
       "      <td>NaN</td>\n",
       "      <td>NaN</td>\n",
       "      <td>22422513.0</td>\n",
       "      <td>2047077.0</td>\n",
       "      <td>22422513.0</td>\n",
       "      <td>2094117.0</td>\n",
       "    </tr>\n",
       "    <tr>\n",
       "      <th>10043</th>\n",
       "      <td>휴마시스(주)</td>\n",
       "      <td>205470</td>\n",
       "      <td>2021/12</td>\n",
       "      <td>307476758.0</td>\n",
       "      <td>16237486.0</td>\n",
       "      <td>NaN</td>\n",
       "      <td>NaN</td>\n",
       "      <td>170496591.0</td>\n",
       "      <td>7628501.0</td>\n",
       "      <td>173906392.0</td>\n",
       "      <td>7923317.0</td>\n",
       "    </tr>\n",
       "    <tr>\n",
       "      <th>10044</th>\n",
       "      <td>휴마시스(주)</td>\n",
       "      <td>205470</td>\n",
       "      <td>2022/12</td>\n",
       "      <td>467505656.0</td>\n",
       "      <td>40349820.0</td>\n",
       "      <td>NaN</td>\n",
       "      <td>NaN</td>\n",
       "      <td>1444488.0</td>\n",
       "      <td>16423635.0</td>\n",
       "      <td>5777452.0</td>\n",
       "      <td>16925167.0</td>\n",
       "    </tr>\n",
       "  </tbody>\n",
       "</table>\n",
       "<p>10921 rows × 11 columns</p>\n",
       "</div>"
      ],
      "text/plain": [
       "               회사명   거래소코드     회계년도  매출액(영업수익)(*)(천원)  판매비와관리비(영업비용)(*)(천원)  \\\n",
       "0      (주)가이아코퍼레이션  296520  2017/12        32290724.0             7812197.0   \n",
       "1      (주)가이아코퍼레이션  296520  2018/12        32601806.0             8227651.0   \n",
       "2      (주)가이아코퍼레이션  296520  2019/12        43168760.0            12849421.0   \n",
       "3      (주)가이아코퍼레이션  296520  2020/12        32823843.0             9867986.0   \n",
       "4      (주)가이아코퍼레이션  296520  2021/12        31864093.0            11892168.0   \n",
       "...            ...     ...      ...               ...                   ...   \n",
       "10040      휴마시스(주)  205470  2018/12         9657735.0             4711632.0   \n",
       "10041      휴마시스(주)  205470  2019/12         9150652.0             4816364.0   \n",
       "10042      휴마시스(주)  205470  2020/12        45717212.0             5355223.0   \n",
       "10043      휴마시스(주)  205470  2021/12       307476758.0            16237486.0   \n",
       "10044      휴마시스(주)  205470  2022/12       467505656.0            40349820.0   \n",
       "\n",
       "       매출액(영업수익)(*)(연결)(천원)  판매비와관리비(영업비용)(*)(연결)(천원)  \\\n",
       "0                       NaN                       NaN   \n",
       "1                       NaN                       NaN   \n",
       "2                       NaN                       NaN   \n",
       "3                       NaN                       NaN   \n",
       "4                32011281.0                12436747.0   \n",
       "...                     ...                       ...   \n",
       "10040                   NaN                       NaN   \n",
       "10041                   NaN                       NaN   \n",
       "10042                   NaN                       NaN   \n",
       "10043                   NaN                       NaN   \n",
       "10044                   NaN                       NaN   \n",
       "\n",
       "       매출액(수익)(*)(3개월)(IFRS)(천원)  판매비와 관리비(물류원가 등 포함)(*)(3개월)(IFRS)(천원)  \\\n",
       "0                            NaN                                    NaN   \n",
       "1                            NaN                                    NaN   \n",
       "2                            NaN                                    NaN   \n",
       "3                            NaN                                    NaN   \n",
       "4                            NaN                                    NaN   \n",
       "...                          ...                                    ...   \n",
       "10040                  3330410.0                              1145117.0   \n",
       "10041                  2824862.0                              1621855.0   \n",
       "10042                 22422513.0                              2047077.0   \n",
       "10043                170496591.0                              7628501.0   \n",
       "10044                  1444488.0                             16423635.0   \n",
       "\n",
       "       매출액(수익)(*)(3개월)(IFRS연결)(천원)  판매비와 관리비(물류원가 등 포함)(*)(3개월)(IFRS연결)(천원)  \n",
       "0                              NaN                                      NaN  \n",
       "1                              NaN                                      NaN  \n",
       "2                              NaN                                      NaN  \n",
       "3                              NaN                                      NaN  \n",
       "4                              NaN                                      NaN  \n",
       "...                            ...                                      ...  \n",
       "10040                          NaN                                      NaN  \n",
       "10041                          NaN                                      NaN  \n",
       "10042                   22422513.0                                2094117.0  \n",
       "10043                  173906392.0                                7923317.0  \n",
       "10044                    5777452.0                               16925167.0  \n",
       "\n",
       "[10921 rows x 11 columns]"
      ]
     },
     "execution_count": 3,
     "metadata": {},
     "output_type": "execute_result"
    }
   ],
   "source": [
    "listed = pd.read_csv('../datasets/상장_쭈피처데이터.csv', encoding='cp949', index_col=0)\n",
    "listed"
   ]
  },
  {
   "cell_type": "code",
   "execution_count": 4,
   "metadata": {},
   "outputs": [
    {
     "name": "stdout",
     "output_type": "stream",
     "text": [
      "227\n"
     ]
    }
   ],
   "source": [
    "listed[\"매출액(영업수익)(*)(천원)\"] = listed[\"매출액(영업수익)(*)(천원)\"].fillna(\n",
    "    listed[\"매출액(수익)(*)(3개월)(IFRS)(천원)\"]\n",
    ")\n",
    "listed[\"매출액(영업수익)(*)(천원)\"] = listed[\"매출액(영업수익)(*)(천원)\"].fillna(\n",
    "    listed[\"매출액(수익)(*)(3개월)(IFRS연결)(천원)\"]\n",
    ")\n",
    "listed[\"매출액(영업수익)(*)(천원)\"] = listed[\"매출액(영업수익)(*)(천원)\"].fillna(\n",
    "    listed[\"매출액(영업수익)(*)(연결)(천원)\"]\n",
    ")\n",
    "print(listed[\"매출액(영업수익)(*)(천원)\"].isnull().sum())"
   ]
  },
  {
   "cell_type": "code",
   "execution_count": 5,
   "metadata": {},
   "outputs": [
    {
     "name": "stdout",
     "output_type": "stream",
     "text": [
      "227\n"
     ]
    },
    {
     "data": {
      "text/plain": [
       "Index(['회사명', '거래소코드', '회계년도', '매출액(영업수익)(*)(천원)', '판매비와관리비(영업비용)(*)(천원)',\n",
       "       '매출액(영업수익)(*)(연결)(천원)', '판매비와관리비(영업비용)(*)(연결)(천원)',\n",
       "       '매출액(수익)(*)(3개월)(IFRS)(천원)', '판매비와 관리비(물류원가 등 포함)(*)(3개월)(IFRS)(천원)',\n",
       "       '매출액(수익)(*)(3개월)(IFRS연결)(천원)',\n",
       "       '판매비와 관리비(물류원가 등 포함)(*)(3개월)(IFRS연결)(천원)'],\n",
       "      dtype='object')"
      ]
     },
     "execution_count": 5,
     "metadata": {},
     "output_type": "execute_result"
    }
   ],
   "source": [
    "listed[\"판매비와관리비(영업비용)(*)(천원)\"] = listed[\"판매비와관리비(영업비용)(*)(천원)\"].fillna(\n",
    "    listed[\"판매비와 관리비(물류원가 등 포함)(*)(3개월)(IFRS)(천원)\"]\n",
    ")\n",
    "listed[\"판매비와관리비(영업비용)(*)(천원)\"] = listed[\"판매비와관리비(영업비용)(*)(천원)\"].fillna(\n",
    "    listed[\"판매비와 관리비(물류원가 등 포함)(*)(3개월)(IFRS연결)(천원)\"]\n",
    ")\n",
    "listed[\"판매비와관리비(영업비용)(*)(천원)\"] = listed[\"판매비와관리비(영업비용)(*)(천원)\"].fillna(\n",
    "    listed[\"판매비와관리비(영업비용)(*)(연결)(천원)\"]\n",
    ")\n",
    "print(listed[\"판매비와관리비(영업비용)(*)(천원)\"].isnull().sum())\n",
    "listed.columns"
   ]
  },
  {
   "cell_type": "code",
   "execution_count": 6,
   "metadata": {},
   "outputs": [
    {
     "data": {
      "text/plain": [
       "Index(['회사명', '거래소코드', '회계년도', '매출액(영업수익)(*)(천원)', '판매비와관리비(영업비용)(*)(천원)'], dtype='object')"
      ]
     },
     "execution_count": 6,
     "metadata": {},
     "output_type": "execute_result"
    }
   ],
   "source": [
    "listed.drop(\n",
    "    columns=[\n",
    "        \"매출액(수익)(*)(3개월)(IFRS)(천원)\",\n",
    "        \"매출액(수익)(*)(3개월)(IFRS연결)(천원)\",\n",
    "        \"판매비와 관리비(물류원가 등 포함)(*)(3개월)(IFRS)(천원)\",\n",
    "        \"판매비와 관리비(물류원가 등 포함)(*)(3개월)(IFRS연결)(천원)\",\n",
    "        \"매출액(영업수익)(*)(연결)(천원)\",\n",
    "        \"판매비와관리비(영업비용)(*)(연결)(천원)\",\n",
    "    ],\n",
    "    axis=1,\n",
    "    inplace=True,\n",
    "    errors=\"ignore\",\n",
    ")\n",
    "\n",
    "listed.columns"
   ]
  },
  {
   "cell_type": "code",
   "execution_count": 7,
   "metadata": {},
   "outputs": [
    {
     "name": "stdout",
     "output_type": "stream",
     "text": [
      "<class 'pandas.core.frame.DataFrame'>\n",
      "Index: 10607 entries, 0 to 10044\n",
      "Data columns (total 5 columns):\n",
      " #   Column                Non-Null Count  Dtype  \n",
      "---  ------                --------------  -----  \n",
      " 0   회사명                   10607 non-null  object \n",
      " 1   거래소코드                 10607 non-null  int64  \n",
      " 2   회계년도                  10607 non-null  object \n",
      " 3   매출액(영업수익)(*)(천원)      10607 non-null  float64\n",
      " 4   판매비와관리비(영업비용)(*)(천원)  10607 non-null  float64\n",
      "dtypes: float64(2), int64(1), object(2)\n",
      "memory usage: 497.2+ KB\n"
     ]
    },
    {
     "data": {
      "text/plain": [
       "1171"
      ]
     },
     "execution_count": 7,
     "metadata": {},
     "output_type": "execute_result"
    }
   ],
   "source": [
    "#  매출액 0 과 음수 나오는 회사 제외하기 : 14,471 개 제외\n",
    "listed = listed[listed[\"매출액(영업수익)(*)(천원)\"] > 0]\n",
    "listed = listed[listed[\"판매비와관리비(영업비용)(*)(천원)\"] > 0]\n",
    "#\n",
    "#\n",
    "#   매출액 0 과 음수 나오는 회사\n",
    "filltered = listed[listed[\"매출액(영업수익)(*)(천원)\"] <= 0]\n",
    "listed.info()\n",
    "len(listed[\"거래소코드\"].unique())"
   ]
  },
  {
   "cell_type": "code",
   "execution_count": 8,
   "metadata": {},
   "outputs": [
    {
     "data": {
      "text/plain": [
       "count     10607.000000\n",
       "mean         20.383870\n",
       "std        1837.187332\n",
       "min           0.006977\n",
       "25%           0.122761\n",
       "50%           0.228028\n",
       "75%           0.446380\n",
       "max      189151.206349\n",
       "Name: new_feature, dtype: float64"
      ]
     },
     "execution_count": 8,
     "metadata": {},
     "output_type": "execute_result"
    }
   ],
   "source": [
    "listed[\"new_feature\"] = listed[\"판매비와관리비(영업비용)(*)(천원)\"] / listed[\"매출액(영업수익)(*)(천원)\"]\n",
    "listed[\"new_feature\"].describe()"
   ]
  },
  {
   "cell_type": "code",
   "execution_count": 9,
   "metadata": {},
   "outputs": [],
   "source": [
    "listed.drop(\n",
    "    columns=[\"판매비와관리비(영업비용)(*)(천원)\", \"매출액(영업수익)(*)(천원)\"],\n",
    "    axis=1,\n",
    "    inplace=True,\n",
    "    errors=\"ignore\",\n",
    ")\n",
    "listed.isnull().sum()\n",
    "listed.to_csv(\"../datasets/피처생성/상장_주피처.csv\")"
   ]
  },
  {
   "cell_type": "code",
   "execution_count": null,
   "metadata": {},
   "outputs": [],
   "source": []
  }
 ],
 "metadata": {
  "kernelspec": {
   "display_name": "Python 3",
   "language": "python",
   "name": "python3"
  },
  "language_info": {
   "codemirror_mode": {
    "name": "ipython",
    "version": 3
   },
   "file_extension": ".py",
   "mimetype": "text/x-python",
   "name": "python",
   "nbconvert_exporter": "python",
   "pygments_lexer": "ipython3",
   "version": "3.11.5"
  }
 },
 "nbformat": 4,
 "nbformat_minor": 2
}
