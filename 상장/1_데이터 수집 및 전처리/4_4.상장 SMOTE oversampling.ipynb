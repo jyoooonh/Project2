{
 "cells": [
  {
   "cell_type": "markdown",
   "metadata": {},
   "source": [
    "목적 : listed data Resampling\n",
    "==============\n",
    "목표 : 각 수명주기별 SMOTE oversampling\n",
    "-----------------\n",
    "각 수명주기별 부실기업 표본수와 정상기업 표본수를 일치하도록 임의로 추출한다."
   ]
  },
  {
   "cell_type": "markdown",
   "metadata": {},
   "source": [
    "import modules"
   ]
  },
  {
   "cell_type": "code",
   "execution_count": 1,
   "metadata": {},
   "outputs": [
    {
     "name": "stdout",
     "output_type": "stream",
     "text": [
      "현재 디렉토리: c:\\Users\\LG\\2ndProject\\상장\\1_데이터 수집 및 전처리\n"
     ]
    }
   ],
   "source": [
    "import pandas as pd\n",
    "import numpy as np\n",
    "\n",
    "#워닝 메시지\n",
    "import warnings\n",
    "warnings.filterwarnings('ignore')\n",
    "\n",
    "import os\n",
    "current_directory = os.getcwd()\n",
    "print(\"현재 디렉토리:\", current_directory)\n",
    "\n",
    "from imblearn.over_sampling import SMOTE"
   ]
  },
  {
   "cell_type": "markdown",
   "metadata": {},
   "source": [
    "load files"
   ]
  },
  {
   "cell_type": "code",
   "execution_count": 2,
   "metadata": {},
   "outputs": [],
   "source": [
    "listed_winsorized_train = pd.read_csv(\"../datasets/Train_Test/listed_winsorized_train_data.csv\")"
   ]
  },
  {
   "cell_type": "markdown",
   "metadata": {},
   "source": [
    "# 데이터 확인"
   ]
  },
  {
   "cell_type": "code",
   "execution_count": 3,
   "metadata": {},
   "outputs": [
    {
     "data": {
      "text/plain": [
       "Index(['회사명', '거래소코드', '회계년도', 'CASH FLOW 대 부채비율', 'CASH FLOW 대 차입금비율',\n",
       "       'CASH FLOW 대 총자본비율', 'CASH FLOW 대 매출액비율', '유동비율', '당좌비율', '부채비율',\n",
       "       '유동부채비율', '차입금의존도', '순운전자본비율', '현금비율', '유동자산구성비율', '자기자본구성비율',\n",
       "       '자기자본순이익률', '경영자본순이익률', '매출액순이익률', '총자본사업이익률', '총자본영업이익률', '매출액영업이익률',\n",
       "       '금융비용부담률', 'CROE', '총자산증가율', '총자본증가율', '유동자산증가율', '비유동자산증가율', '매출액증가율',\n",
       "       '유형자산증가율', '부가가치', '총자본투자효율', '설비투자효율', '부가가치율', '이윤분배율', '자본분배율',\n",
       "       '총자산회전율', '매출채권회전률', '당좌자산회전률', '유형자산회전율', '경영자본회전률', '총자본회전률',\n",
       "       '비유동자산회전률', '유동자산회전률', '영업년수', '상장년수', 'PER', 'PBR', 'PCR', 'PSR',\n",
       "       '쭈피처', '영업투자현금비율', '영업재무현금비율', '도입기', '성숙기', '성장기', '쇠퇴기', '부실판단'],\n",
       "      dtype='object')"
      ]
     },
     "execution_count": 3,
     "metadata": {},
     "output_type": "execute_result"
    }
   ],
   "source": [
    "listed_winsorized_train.columns"
   ]
  },
  {
   "cell_type": "code",
   "execution_count": 4,
   "metadata": {},
   "outputs": [
    {
     "data": {
      "text/plain": [
       "부실판단\n",
       "1.0    274\n",
       "0.0    259\n",
       "Name: count, dtype: int64"
      ]
     },
     "execution_count": 4,
     "metadata": {},
     "output_type": "execute_result"
    }
   ],
   "source": [
    "listed_winsorized_train['부실판단'].value_counts()"
   ]
  },
  {
   "cell_type": "code",
   "execution_count": 5,
   "metadata": {},
   "outputs": [
    {
     "data": {
      "text/plain": [
       "도입기  부실판단\n",
       "0    0.0     226\n",
       "     1.0     150\n",
       "1    1.0     124\n",
       "     0.0      33\n",
       "Name: count, dtype: int64"
      ]
     },
     "execution_count": 5,
     "metadata": {},
     "output_type": "execute_result"
    }
   ],
   "source": [
    "listed_winsorized_train[['도입기', '부실판단']].value_counts()"
   ]
  },
  {
   "cell_type": "code",
   "execution_count": 6,
   "metadata": {},
   "outputs": [
    {
     "data": {
      "text/plain": [
       "성장기  부실판단\n",
       "0    1.0     241\n",
       "     0.0     179\n",
       "1    0.0      80\n",
       "     1.0      33\n",
       "Name: count, dtype: int64"
      ]
     },
     "execution_count": 6,
     "metadata": {},
     "output_type": "execute_result"
    }
   ],
   "source": [
    "listed_winsorized_train[['성장기', '부실판단']].value_counts()"
   ]
  },
  {
   "cell_type": "code",
   "execution_count": 7,
   "metadata": {},
   "outputs": [
    {
     "data": {
      "text/plain": [
       "성숙기  부실판단\n",
       "0    1.0     238\n",
       "     0.0     139\n",
       "1    0.0     120\n",
       "     1.0      36\n",
       "Name: count, dtype: int64"
      ]
     },
     "execution_count": 7,
     "metadata": {},
     "output_type": "execute_result"
    }
   ],
   "source": [
    "listed_winsorized_train[['성숙기', '부실판단']].value_counts()"
   ]
  },
  {
   "cell_type": "code",
   "execution_count": 8,
   "metadata": {},
   "outputs": [
    {
     "data": {
      "text/plain": [
       "쇠퇴기  부실판단\n",
       "0    0.0     233\n",
       "     1.0     193\n",
       "1    1.0      81\n",
       "     0.0      26\n",
       "Name: count, dtype: int64"
      ]
     },
     "execution_count": 8,
     "metadata": {},
     "output_type": "execute_result"
    }
   ],
   "source": [
    "listed_winsorized_train[['쇠퇴기', '부실판단']].value_counts()"
   ]
  },
  {
   "cell_type": "markdown",
   "metadata": {},
   "source": [
    "# Oversampling 표본추출"
   ]
  },
  {
   "cell_type": "code",
   "execution_count": 9,
   "metadata": {},
   "outputs": [],
   "source": [
    "# SMOTE 방식의 오버샘플링 수행\n",
    "sampler = SMOTE(sampling_strategy='auto', random_state=42)\n",
    "\n",
    "# feature와 label을 하나의 csv 파일로 만들예정"
   ]
  },
  {
   "cell_type": "markdown",
   "metadata": {},
   "source": [
    "도입기 intro"
   ]
  },
  {
   "cell_type": "code",
   "execution_count": 10,
   "metadata": {},
   "outputs": [],
   "source": [
    "intro_X_train = listed_winsorized_train.loc[listed_winsorized_train['도입기'] == 1].drop(\n",
    "    labels=[\n",
    "        '회사명', '거래소코드', '회계년도'\n",
    "    ],\n",
    "    axis=1\n",
    ")\n",
    "intro_y_train = listed_winsorized_train.loc[listed_winsorized_train['도입기'] == 1]['부실판단']\n",
    "intro_X_resampled_train, intro_y_resampled_train = sampler.fit_resample(intro_X_train, intro_y_train)"
   ]
  },
  {
   "cell_type": "code",
   "execution_count": 11,
   "metadata": {},
   "outputs": [
    {
     "data": {
      "text/plain": [
       "도입기  부실판단\n",
       "1    0.0     124\n",
       "     1.0     124\n",
       "Name: count, dtype: int64"
      ]
     },
     "execution_count": 11,
     "metadata": {},
     "output_type": "execute_result"
    }
   ],
   "source": [
    "intro_X_resampled_train[['도입기', '부실판단']].value_counts()"
   ]
  },
  {
   "cell_type": "markdown",
   "metadata": {},
   "source": [
    "성장기 growth"
   ]
  },
  {
   "cell_type": "code",
   "execution_count": 12,
   "metadata": {},
   "outputs": [],
   "source": [
    "growth_X_train = listed_winsorized_train.loc[listed_winsorized_train['성장기'] == 1].drop(\n",
    "    labels=[\n",
    "        '회사명', '거래소코드', '회계년도'\n",
    "    ],\n",
    "    axis=1\n",
    ")\n",
    "growth_y_train = listed_winsorized_train.loc[listed_winsorized_train['성장기'] == 1]['부실판단']\n",
    "growth_X_resampled_train, growth_y_resampled_train = sampler.fit_resample(growth_X_train, growth_y_train)"
   ]
  },
  {
   "cell_type": "code",
   "execution_count": 13,
   "metadata": {},
   "outputs": [
    {
     "data": {
      "text/plain": [
       "성장기  부실판단\n",
       "1    0.0     80\n",
       "     1.0     80\n",
       "Name: count, dtype: int64"
      ]
     },
     "execution_count": 13,
     "metadata": {},
     "output_type": "execute_result"
    }
   ],
   "source": [
    "growth_X_resampled_train[['성장기', '부실판단']].value_counts()"
   ]
  },
  {
   "cell_type": "markdown",
   "metadata": {},
   "source": [
    "성숙기 maturity"
   ]
  },
  {
   "cell_type": "code",
   "execution_count": 14,
   "metadata": {},
   "outputs": [],
   "source": [
    "maturity_X_train = listed_winsorized_train.loc[listed_winsorized_train['성숙기'] == 1].drop(\n",
    "    labels=[\n",
    "        '회사명', '거래소코드', '회계년도'\n",
    "    ],\n",
    "    axis=1\n",
    ")\n",
    "maturity_y_train = listed_winsorized_train.loc[listed_winsorized_train['성숙기'] == 1]['부실판단']\n",
    "maturity_X_resampled_train, maturity_y_resampled_train = sampler.fit_resample(maturity_X_train, maturity_y_train)"
   ]
  },
  {
   "cell_type": "code",
   "execution_count": 15,
   "metadata": {},
   "outputs": [
    {
     "data": {
      "text/plain": [
       "성숙기  부실판단\n",
       "1    0.0     120\n",
       "     1.0     120\n",
       "Name: count, dtype: int64"
      ]
     },
     "execution_count": 15,
     "metadata": {},
     "output_type": "execute_result"
    }
   ],
   "source": [
    "maturity_X_resampled_train[['성숙기', '부실판단']].value_counts()"
   ]
  },
  {
   "cell_type": "markdown",
   "metadata": {},
   "source": [
    "쇠퇴기 decline"
   ]
  },
  {
   "cell_type": "code",
   "execution_count": 16,
   "metadata": {},
   "outputs": [],
   "source": [
    "decline_X_train = listed_winsorized_train.loc[listed_winsorized_train['쇠퇴기'] == 1].drop(\n",
    "    labels=[\n",
    "        '회사명', '거래소코드', '회계년도'\n",
    "    ],\n",
    "    axis=1\n",
    ")\n",
    "decline_y_train = listed_winsorized_train.loc[listed_winsorized_train['쇠퇴기'] == 1]['부실판단']\n",
    "decline_X_resampled_train, decline_y_resampled_train = sampler.fit_resample(decline_X_train, decline_y_train)"
   ]
  },
  {
   "cell_type": "code",
   "execution_count": 17,
   "metadata": {},
   "outputs": [
    {
     "data": {
      "text/plain": [
       "쇠퇴기  부실판단\n",
       "1    0.0     81\n",
       "     1.0     81\n",
       "Name: count, dtype: int64"
      ]
     },
     "execution_count": 17,
     "metadata": {},
     "output_type": "execute_result"
    }
   ],
   "source": [
    "decline_X_resampled_train[['쇠퇴기', '부실판단']].value_counts()"
   ]
  },
  {
   "cell_type": "markdown",
   "metadata": {},
   "source": [
    "# make csv file"
   ]
  },
  {
   "cell_type": "markdown",
   "metadata": {},
   "source": [
    "concat"
   ]
  },
  {
   "cell_type": "code",
   "execution_count": 18,
   "metadata": {},
   "outputs": [],
   "source": [
    "train_data = pd.concat([intro_X_resampled_train, growth_X_resampled_train, maturity_X_resampled_train, decline_X_resampled_train], axis=0, ignore_index=True)"
   ]
  },
  {
   "cell_type": "code",
   "execution_count": 19,
   "metadata": {},
   "outputs": [
    {
     "data": {
      "text/plain": [
       "쇠퇴기  부실판단\n",
       "0    0.0     324\n",
       "     1.0     324\n",
       "1    0.0      81\n",
       "     1.0      81\n",
       "Name: count, dtype: int64"
      ]
     },
     "execution_count": 19,
     "metadata": {},
     "output_type": "execute_result"
    }
   ],
   "source": [
    "train_data[['쇠퇴기', '부실판단']].value_counts()"
   ]
  },
  {
   "cell_type": "markdown",
   "metadata": {},
   "source": [
    "to_csv"
   ]
  },
  {
   "cell_type": "code",
   "execution_count": 20,
   "metadata": {},
   "outputs": [],
   "source": [
    "train_data.to_csv(\"../datasets/Train_Test/listed_smoted_train_data.csv\", index=False)"
   ]
  },
  {
   "cell_type": "code",
   "execution_count": null,
   "metadata": {},
   "outputs": [],
   "source": []
  }
 ],
 "metadata": {
  "kernelspec": {
   "display_name": "Python 3",
   "language": "python",
   "name": "python3"
  },
  "language_info": {
   "codemirror_mode": {
    "name": "ipython",
    "version": 3
   },
   "file_extension": ".py",
   "mimetype": "text/x-python",
   "name": "python",
   "nbconvert_exporter": "python",
   "pygments_lexer": "ipython3",
   "version": "3.11.3"
  }
 },
 "nbformat": 4,
 "nbformat_minor": 2
}
