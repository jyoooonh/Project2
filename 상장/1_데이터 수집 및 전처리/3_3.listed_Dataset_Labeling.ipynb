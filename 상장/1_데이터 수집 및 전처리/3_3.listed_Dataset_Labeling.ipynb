{
 "cells": [
  {
   "cell_type": "code",
   "execution_count": 1,
   "metadata": {},
   "outputs": [],
   "source": [
    "import pandas as pd"
   ]
  },
  {
   "cell_type": "code",
   "execution_count": 2,
   "metadata": {},
   "outputs": [],
   "source": [
    "kskqkn_fin = pd.read_csv(\"../datasets/Feature/1.재무비율.csv\")\n",
    "kskqkn_lc = pd.read_csv(\"../datasets/Feature/2.부실+수명주기.csv\", index_col=0)"
   ]
  },
  {
   "cell_type": "code",
   "execution_count": 3,
   "metadata": {},
   "outputs": [],
   "source": [
    "kskqkn_df = pd.merge(kskqkn_fin, kskqkn_lc, how=\"inner\", on=[\"회사명\", \"거래소코드\", \"회계년도\"])"
   ]
  },
  {
   "cell_type": "code",
   "execution_count": 4,
   "metadata": {},
   "outputs": [
    {
     "name": "stdout",
     "output_type": "stream",
     "text": [
      "상장 기업\n",
      "재무비율 기업 개수\n",
      "1167\n",
      "기업수명주기 기업 개수\n",
      "890\n",
      "concat 기업 개수\n",
      "890\n"
     ]
    }
   ],
   "source": [
    "print(\"상장 기업\")\n",
    "print(\"재무비율 기업 개수\")\n",
    "print(len(kskqkn_fin[\"거래소코드\"].unique()))\n",
    "print(\"기업수명주기 기업 개수\")\n",
    "print(len(kskqkn_lc[\"거래소코드\"].unique()))\n",
    "print(\"concat 기업 개수\")\n",
    "print(len(kskqkn_df[\"거래소코드\"].unique()))"
   ]
  },
  {
   "cell_type": "code",
   "execution_count": 5,
   "metadata": {},
   "outputs": [],
   "source": [
    "kskqkn_df.to_csv(\"../datasets/Feature/3.재무비율+부실+수명주기.csv\")"
   ]
  },
  {
   "cell_type": "code",
   "execution_count": null,
   "metadata": {},
   "outputs": [],
   "source": []
  }
 ],
 "metadata": {
  "kernelspec": {
   "display_name": "Python 3",
   "language": "python",
   "name": "python3"
  },
  "language_info": {
   "codemirror_mode": {
    "name": "ipython",
    "version": 3
   },
   "file_extension": ".py",
   "mimetype": "text/x-python",
   "name": "python",
   "nbconvert_exporter": "python",
   "pygments_lexer": "ipython3",
   "version": "3.11.5"
  }
 },
 "nbformat": 4,
 "nbformat_minor": 2
}
