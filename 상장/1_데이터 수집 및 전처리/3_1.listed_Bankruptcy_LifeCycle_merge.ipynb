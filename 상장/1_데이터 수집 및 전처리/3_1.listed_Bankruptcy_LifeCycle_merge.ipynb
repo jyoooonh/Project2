{
 "cells": [
  {
   "cell_type": "code",
   "execution_count": 1,
   "metadata": {},
   "outputs": [],
   "source": [
    "import pandas as pd"
   ]
  },
  {
   "cell_type": "code",
   "execution_count": 2,
   "metadata": {},
   "outputs": [],
   "source": [
    "kskqkn_bk = pd.read_csv(\"../datasets/Labeling/상장_부실_Labeling.csv\", index_col=0)\n",
    "kskqkn_lc = pd.read_csv(\"../datasets/Labeling/상장_수명주기.csv\", index_col=0)"
   ]
  },
  {
   "cell_type": "code",
   "execution_count": 3,
   "metadata": {},
   "outputs": [
    {
     "data": {
      "text/html": [
       "<div>\n",
       "<style scoped>\n",
       "    .dataframe tbody tr th:only-of-type {\n",
       "        vertical-align: middle;\n",
       "    }\n",
       "\n",
       "    .dataframe tbody tr th {\n",
       "        vertical-align: top;\n",
       "    }\n",
       "\n",
       "    .dataframe thead th {\n",
       "        text-align: right;\n",
       "    }\n",
       "</style>\n",
       "<table border=\"1\" class=\"dataframe\">\n",
       "  <thead>\n",
       "    <tr style=\"text-align: right;\">\n",
       "      <th></th>\n",
       "      <th>회사명</th>\n",
       "      <th>거래소코드</th>\n",
       "      <th>회계년도</th>\n",
       "      <th>부실판단</th>\n",
       "      <th>기업수명주기</th>\n",
       "    </tr>\n",
       "  </thead>\n",
       "  <tbody>\n",
       "    <tr>\n",
       "      <th>0</th>\n",
       "      <td>케이알모터스(주)</td>\n",
       "      <td>40</td>\n",
       "      <td>2014</td>\n",
       "      <td>1.0</td>\n",
       "      <td>도입기</td>\n",
       "    </tr>\n",
       "    <tr>\n",
       "      <th>1</th>\n",
       "      <td>(주)천일고속</td>\n",
       "      <td>650</td>\n",
       "      <td>2022</td>\n",
       "      <td>1.0</td>\n",
       "      <td>쇠퇴기</td>\n",
       "    </tr>\n",
       "    <tr>\n",
       "      <th>2</th>\n",
       "      <td>이화산업(주)</td>\n",
       "      <td>760</td>\n",
       "      <td>2019</td>\n",
       "      <td>1.0</td>\n",
       "      <td>성숙기</td>\n",
       "    </tr>\n",
       "    <tr>\n",
       "      <th>3</th>\n",
       "      <td>신라섬유(주)</td>\n",
       "      <td>1000</td>\n",
       "      <td>2015</td>\n",
       "      <td>1.0</td>\n",
       "      <td>도입기</td>\n",
       "    </tr>\n",
       "    <tr>\n",
       "      <th>4</th>\n",
       "      <td>삼성제약(주)</td>\n",
       "      <td>1360</td>\n",
       "      <td>2014</td>\n",
       "      <td>1.0</td>\n",
       "      <td>쇠퇴기</td>\n",
       "    </tr>\n",
       "    <tr>\n",
       "      <th>...</th>\n",
       "      <td>...</td>\n",
       "      <td>...</td>\n",
       "      <td>...</td>\n",
       "      <td>...</td>\n",
       "      <td>...</td>\n",
       "    </tr>\n",
       "    <tr>\n",
       "      <th>885</th>\n",
       "      <td>(주)블리츠웨이</td>\n",
       "      <td>369370</td>\n",
       "      <td>2022</td>\n",
       "      <td>NaN</td>\n",
       "      <td>도입기</td>\n",
       "    </tr>\n",
       "    <tr>\n",
       "      <th>886</th>\n",
       "      <td>차이나크리스탈신소재홀딩스</td>\n",
       "      <td>900250</td>\n",
       "      <td>2022</td>\n",
       "      <td>0.0</td>\n",
       "      <td>성장기</td>\n",
       "    </tr>\n",
       "    <tr>\n",
       "      <th>887</th>\n",
       "      <td>헝셩그룹유한회사</td>\n",
       "      <td>900270</td>\n",
       "      <td>2022</td>\n",
       "      <td>0.0</td>\n",
       "      <td>성장기</td>\n",
       "    </tr>\n",
       "    <tr>\n",
       "      <th>888</th>\n",
       "      <td>오가닉티코스메틱스홀딩스컴퍼니리미티드</td>\n",
       "      <td>900300</td>\n",
       "      <td>2022</td>\n",
       "      <td>0.0</td>\n",
       "      <td>성장기</td>\n",
       "    </tr>\n",
       "    <tr>\n",
       "      <th>889</th>\n",
       "      <td>윙입푸드홀딩스</td>\n",
       "      <td>900340</td>\n",
       "      <td>2022</td>\n",
       "      <td>0.0</td>\n",
       "      <td>성장기</td>\n",
       "    </tr>\n",
       "  </tbody>\n",
       "</table>\n",
       "<p>890 rows × 5 columns</p>\n",
       "</div>"
      ],
      "text/plain": [
       "                     회사명   거래소코드  회계년도  부실판단 기업수명주기\n",
       "0              케이알모터스(주)      40  2014   1.0    도입기\n",
       "1                (주)천일고속     650  2022   1.0    쇠퇴기\n",
       "2                이화산업(주)     760  2019   1.0    성숙기\n",
       "3                신라섬유(주)    1000  2015   1.0    도입기\n",
       "4                삼성제약(주)    1360  2014   1.0    쇠퇴기\n",
       "..                   ...     ...   ...   ...    ...\n",
       "885             (주)블리츠웨이  369370  2022   NaN    도입기\n",
       "886        차이나크리스탈신소재홀딩스  900250  2022   0.0    성장기\n",
       "887             헝셩그룹유한회사  900270  2022   0.0    성장기\n",
       "888  오가닉티코스메틱스홀딩스컴퍼니리미티드  900300  2022   0.0    성장기\n",
       "889              윙입푸드홀딩스  900340  2022   0.0    성장기\n",
       "\n",
       "[890 rows x 5 columns]"
      ]
     },
     "execution_count": 3,
     "metadata": {},
     "output_type": "execute_result"
    }
   ],
   "source": [
    "kskqkn_df = pd.merge(kskqkn_bk, kskqkn_lc, how=\"inner\", on=[\"회사명\", \"거래소코드\", \"회계년도\"])\n",
    "kskqkn_df"
   ]
  },
  {
   "cell_type": "code",
   "execution_count": 4,
   "metadata": {},
   "outputs": [
    {
     "data": {
      "text/plain": [
       "회사명        0\n",
       "거래소코드      0\n",
       "회계년도       0\n",
       "부실판단      22\n",
       "기업수명주기     0\n",
       "dtype: int64"
      ]
     },
     "execution_count": 4,
     "metadata": {},
     "output_type": "execute_result"
    }
   ],
   "source": [
    "kskqkn_df.isna().sum()"
   ]
  },
  {
   "cell_type": "code",
   "execution_count": 5,
   "metadata": {},
   "outputs": [],
   "source": [
    "kskqkn_df.to_csv(\"../datasets/Feature/2.부실+수명주기.csv\")"
   ]
  },
  {
   "cell_type": "code",
   "execution_count": null,
   "metadata": {},
   "outputs": [],
   "source": []
  }
 ],
 "metadata": {
  "kernelspec": {
   "display_name": "Python 3",
   "language": "python",
   "name": "python3"
  },
  "language_info": {
   "codemirror_mode": {
    "name": "ipython",
    "version": 3
   },
   "file_extension": ".py",
   "mimetype": "text/x-python",
   "name": "python",
   "nbconvert_exporter": "python",
   "pygments_lexer": "ipython3",
   "version": "3.11.5"
  }
 },
 "nbformat": 4,
 "nbformat_minor": 2
}
