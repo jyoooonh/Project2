{
 "cells": [
  {
   "cell_type": "code",
   "execution_count": 2,
   "metadata": {},
   "outputs": [],
   "source": [
    "import pandas as pd\n",
    "import numpy as np\n",
    "import matplotlib.pyplot as plt\n",
    "import seaborn as sns\n",
    "\n",
    "import warnings\n",
    "warnings.filterwarnings('ignore')\n",
    "\n",
    "from sklearn.ensemble import RandomForestClassifier, BaggingClassifier, AdaBoostClassifier\n",
    "from sklearn.linear_model import LogisticRegression\n",
    "from sklearn.model_selection import RandomizedSearchCV\n",
    "from sklearn.model_selection import cross_val_score\n",
    "from sklearn.metrics import accuracy_score, precision_score, recall_score, f1_score, roc_auc_score\n",
    "from xgboost import XGBClassifier\n",
    "from sklearn.svm import SVC\n",
    "from lightgbm import LGBMClassifier"
   ]
  },
  {
   "cell_type": "code",
   "execution_count": 3,
   "metadata": {},
   "outputs": [],
   "source": [
    "train = pd.read_csv('../1.데이터셋/Feature/all_data_smoted_train_data.csv')\n",
    "test = pd.read_csv('../1.데이터셋/Feature/all_data_test_data.csv')"
   ]
  },
  {
   "cell_type": "code",
   "execution_count": 4,
   "metadata": {},
   "outputs": [],
   "source": [
    "train_life_cycle = train[['도입기', '성장기', '성숙기', '쇠퇴기']]\n",
    "test_life_cycle = test[['도입기', '성장기', '성숙기', '쇠퇴기']]"
   ]
  },
  {
   "cell_type": "code",
   "execution_count": 5,
   "metadata": {},
   "outputs": [],
   "source": [
    "x_train = train[['CASH FLOW 대 매출액비율', 'CASH FLOW 대 부채비율', 'CASH FLOW 대 차입금비율', 'CASH FLOW 대 총자본비율', '유동자산구성비율',\n",
    "\t\t\t\t '자기자본구성비율', '차입금의존도', '현금비율', '경영자본순이익률', '금융비용부담률', '매출액순이익률', '매출액영업이익률']]\n",
    "\n",
    "x_test = test[['CASH FLOW 대 매출액비율', 'CASH FLOW 대 부채비율', 'CASH FLOW 대 차입금비율', 'CASH FLOW 대 총자본비율', '유동자산구성비율',\n",
    "\t\t\t\t '자기자본구성비율', '차입금의존도', '현금비율', '경영자본순이익률', '금융비용부담률', '매출액순이익률', '매출액영업이익률']]\n",
    "\n",
    "y_train = train['부실판단']\n",
    "y_test = test['부실판단']"
   ]
  },
  {
   "cell_type": "code",
   "execution_count": 6,
   "metadata": {},
   "outputs": [],
   "source": [
    "from sklearn.preprocessing import StandardScaler, MinMaxScaler\n",
    "\n",
    "labels = x_train.columns\n",
    "\n",
    "scaler = StandardScaler()\n",
    "x_train = scaler.fit_transform(x_train)\n",
    "x_test = scaler.transform(x_test)\n",
    "\n",
    "x_train = pd.DataFrame(data=x_train, columns = labels)\n",
    "x_test = pd.DataFrame(data=x_test, columns = labels)"
   ]
  },
  {
   "cell_type": "code",
   "execution_count": 8,
   "metadata": {},
   "outputs": [
    {
     "name": "stdout",
     "output_type": "stream",
     "text": [
      "Accuracy: 0.728\n",
      "Precision: 0.611\n",
      "Recall: 0.743\n",
      "F1 스코어: 0.67\n",
      "ROC AUC 스코어: 0.73\n"
     ]
    }
   ],
   "source": [
    "model = LogisticRegression()\n",
    "model.fit(x_train, y_train)\n",
    "y_pred = model.predict(x_test)\n",
    "\n",
    "accuracy = accuracy_score(y_test, y_pred)\n",
    "precision = precision_score(y_test, y_pred)\n",
    "recall = recall_score(y_test, y_pred)\n",
    "f1 = f1_score(y_test, y_pred)\n",
    "roc_auc = roc_auc_score(y_test, y_pred)\n",
    "\n",
    "\n",
    "print(f'Accuracy: {accuracy:.3f}')\n",
    "print(f'Precision: {precision:.3f}')\n",
    "print(f'Recall: {recall:.3f}')\n",
    "print(f'F1 스코어: {f1:.2f}')\n",
    "print(f'ROC AUC 스코어: {roc_auc:.2f}')\n"
   ]
  },
  {
   "cell_type": "code",
   "execution_count": 9,
   "metadata": {},
   "outputs": [
    {
     "name": "stdout",
     "output_type": "stream",
     "text": [
      "Fitting 5 folds for each of 33 candidates, totalling 165 fits\n"
     ]
    },
    {
     "name": "stdout",
     "output_type": "stream",
     "text": [
      "Logistic 하이퍼파라미터 조정 평가 지표\n",
      "Best Parameters: {'solver': 'liblinear', 'penalty': 'l1', 'C': 61.99}\n",
      "Accuracy: 0.728\n",
      "Precision: 0.611\n",
      "Recall: 0.743\n",
      "F1 Score: 0.671\n",
      "ROC AUC Score: 0.731\n"
     ]
    }
   ],
   "source": [
    "# 하이퍼파라미터 범위 지정\n",
    "param_grid = {\n",
    "    'C': np.arange(0, 100.0, 0.01),  # 규제 강도\n",
    "    'penalty': ['l1', 'l2', 'elasticnet'],  # 규제 유형\n",
    "    'solver': ['liblinear', 'saga']  # 최적화 알고리즘\n",
    "}\n",
    "\n",
    "model = LogisticRegression()\n",
    "random_search = RandomizedSearchCV(estimator=model, param_distributions=param_grid, n_iter=33, \n",
    "                                   scoring='accuracy', cv=5, verbose=1, random_state=42)\n",
    "\n",
    "random_search.fit(x_train, y_train)\n",
    "\n",
    "best_model = random_search.best_estimator_\n",
    "\n",
    "y_pred = best_model.predict(x_test)\n",
    "\n",
    "accuracy = accuracy_score(y_test, y_pred)\n",
    "precision = precision_score(y_test, y_pred)\n",
    "recall = recall_score(y_test, y_pred)\n",
    "f1 = f1_score(y_test, y_pred)\n",
    "roc_auc = roc_auc_score(y_test, y_pred)\n",
    "\n",
    "print(\"Logistic 하이퍼파라미터 조정 평가 지표\")\n",
    "print(\"Best Parameters:\", random_search.best_params_)\n",
    "print(f'Accuracy: {accuracy:.3f}')\n",
    "print(f'Precision: {precision:.3f}')\n",
    "print(f'Recall: {recall:.3f}')\n",
    "print(f'F1 Score: {f1:.3f}')\n",
    "print(f'ROC AUC Score: {roc_auc:.3f}')\n"
   ]
  },
  {
   "cell_type": "code",
   "execution_count": 70,
   "metadata": {},
   "outputs": [
    {
     "name": "stdout",
     "output_type": "stream",
     "text": [
      "Random Forest 모델 평가 지표\n",
      "Accuracy: 0.781\n",
      "Precision: 0.677\n",
      "Recall: 0.769\n",
      "F1 스코어: 0.72\n",
      "ROC AUC 스코어: 0.78\n"
     ]
    }
   ],
   "source": [
    "# Random Forest 모델 생성 및 학습\n",
    "rf_model = RandomForestClassifier()\n",
    "rf_model.fit(x_train, y_train)\n",
    "\n",
    "# 예측 및 성능 평가\n",
    "y_pred_rf = rf_model.predict(x_test)\n",
    "\n",
    "accuracy_rf = accuracy_score(y_test, y_pred_rf)\n",
    "precision_rf = precision_score(y_test, y_pred_rf)\n",
    "recall_rf = recall_score(y_test, y_pred_rf)\n",
    "f1_rf = f1_score(y_test, y_pred_rf)\n",
    "roc_auc_rf = roc_auc_score(y_test, y_pred_rf)\n",
    "\n",
    "print(\"Random Forest 모델 평가 지표\")\n",
    "print(f'Accuracy: {accuracy_rf:.3f}')\n",
    "print(f'Precision: {precision_rf:.3f}')\n",
    "print(f'Recall: {recall_rf:.3f}')\n",
    "print(f'F1 스코어: {f1_rf:.2f}')\n",
    "print(f'ROC AUC 스코어: {roc_auc_rf:.2f}')\n"
   ]
  },
  {
   "cell_type": "code",
   "execution_count": 10,
   "metadata": {},
   "outputs": [
    {
     "name": "stdout",
     "output_type": "stream",
     "text": [
      "Fitting 4 folds for each of 22 candidates, totalling 88 fits\n",
      "Random Forest 모델 하이퍼파라미터 조정 평가 지표\n",
      "{'n_estimators': 75, 'min_samples_split': 3, 'min_samples_leaf': 2, 'max_depth': 25}\n",
      "Accuracy: 0.803\n",
      "Precision: 0.695\n",
      "Recall: 0.842\n",
      "F1 스코어: 0.76\n",
      "ROC AUC 스코어: 0.81\n"
     ]
    }
   ],
   "source": [
    "random_search = {'n_estimators': np.arange(1, 100, 1),\n",
    "                 'max_depth': np.arange(1, 33, 1),\n",
    "                 'min_samples_split': np.arange(1, 9, 1),\n",
    "                 'min_samples_leaf': np.arange(1, 9, 1)}\n",
    "\n",
    "clf = RandomForestClassifier()\n",
    "random = RandomizedSearchCV(estimator = clf, param_distributions = random_search, n_iter = 22, \n",
    "                               cv = 4, verbose= 1, random_state= 101, n_jobs = -1)\n",
    "random.fit(x_train,y_train)\n",
    "random_pf = random.best_estimator_.predict(x_test)\n",
    "\n",
    "accuracy_rdrf = accuracy_score(y_test, random_pf)\n",
    "precision_rdrf = precision_score(y_test, random_pf)\n",
    "recall_rdrf = recall_score(y_test, random_pf)\n",
    "f1_rdrf = f1_score(y_test, random_pf)\n",
    "roc_auc_rdrf = roc_auc_score(y_test, random_pf)\n",
    "\n",
    "print(\"Random Forest 모델 하이퍼파라미터 조정 평가 지표\")\n",
    "print(random.best_params_)\n",
    "print(f'Accuracy: {accuracy_rdrf:.3f}')\n",
    "print(f'Precision: {precision_rdrf:.3f}')\n",
    "print(f'Recall: {recall_rdrf:.3f}')\n"
   ]
  },
  {
   "cell_type": "code",
   "execution_count": 11,
   "metadata": {},
   "outputs": [
    {
     "name": "stdout",
     "output_type": "stream",
     "text": [
      "F1 스코어: 0.761\n",
      "ROC AUC 스코어: 0.811\n"
     ]
    }
   ],
   "source": [
    "print(f'F1 스코어: {f1_rdrf:.3f}')\n",
    "print(f'ROC AUC 스코어: {roc_auc_rdrf:.3f}')"
   ]
  },
  {
   "cell_type": "code",
   "execution_count": 72,
   "metadata": {},
   "outputs": [
    {
     "name": "stdout",
     "output_type": "stream",
     "text": [
      "AdaBoost 모델 평가 지표:\n",
      "Accuracy: 0.756\n",
      "Precision: 0.658\n",
      "Recall: 0.694\n",
      "F1 스코어: 0.68\n",
      "ROC AUC 스코어: 0.74\n"
     ]
    }
   ],
   "source": [
    "# AdaBoost 모델 생성 및 학습\n",
    "adaboost_model = AdaBoostClassifier()\n",
    "adaboost_model.fit(x_train, y_train)\n",
    "\n",
    "# 예측 및 성능 평가\n",
    "y_pred_adaboost = adaboost_model.predict(x_test)\n",
    "\n",
    "accuracy_adaboost = accuracy_score(y_test, y_pred_adaboost)\n",
    "precision_adaboost = precision_score(y_test, y_pred_adaboost)\n",
    "recall_adaboost = recall_score(y_test, y_pred_adaboost)\n",
    "f1_adaboost = f1_score(y_test, y_pred_adaboost)\n",
    "roc_auc_adaboost = roc_auc_score(y_test, y_pred_adaboost)\n",
    "\n",
    "print(\"AdaBoost 모델 평가 지표:\")\n",
    "print(f'Accuracy: {accuracy_adaboost:.3f}')\n",
    "print(f'Precision: {precision_adaboost:.3f}')\n",
    "print(f'Recall: {recall_adaboost:.3f}')\n",
    "print(f'F1 스코어: {f1_adaboost:.2f}')\n",
    "print(f'ROC AUC 스코어: {roc_auc_adaboost:.2f}')"
   ]
  },
  {
   "cell_type": "code",
   "execution_count": 73,
   "metadata": {},
   "outputs": [
    {
     "name": "stdout",
     "output_type": "stream",
     "text": [
      "Fitting 5 folds for each of 9 candidates, totalling 45 fits\n",
      "Best Parameters: {'n_estimators': 200, 'learning_rate': 1.0}\n",
      "AdaBoost 모델 하이퍼파라미터 조정 평가 지표:\n",
      "Accuracy: 0.763\n",
      "Precision: 0.663\n",
      "Recall: 0.716\n",
      "F1 Score: 0.689\n",
      "ROC AUC Score: 0.753\n"
     ]
    }
   ],
   "source": [
    "adaboost_model = AdaBoostClassifier()\n",
    "\n",
    "param_grid = {\n",
    "    'n_estimators': [50, 100, 200],  # 트리 개수\n",
    "    'learning_rate': [0.01, 0.1, 1.0]  # 학습률\n",
    "}\n",
    "\n",
    "random_search = RandomizedSearchCV(estimator=adaboost_model, param_distributions=param_grid, n_iter=10, \n",
    "                                   scoring='accuracy', cv=5, verbose=1, random_state=42)\n",
    "\n",
    "random_search.fit(x_train, y_train)\n",
    "\n",
    "best_model = random_search.best_estimator_\n",
    "\n",
    "y_pred_adaboost = best_model.predict(x_test)\n",
    "\n",
    "# 평가 메트릭 계산\n",
    "accuracy_adaboost = accuracy_score(y_test, y_pred_adaboost)\n",
    "precision_adaboost = precision_score(y_test, y_pred_adaboost)\n",
    "recall_adaboost = recall_score(y_test, y_pred_adaboost)\n",
    "f1_adaboost = f1_score(y_test, y_pred_adaboost)\n",
    "roc_auc_adaboost = roc_auc_score(y_test, y_pred_adaboost)\n",
    "\n",
    "print(\"Best Parameters:\", random_search.best_params_)\n",
    "print(\"AdaBoost 모델 하이퍼파라미터 조정 평가 지표:\")\n",
    "print(f'Accuracy: {accuracy_adaboost:.3f}')\n",
    "print(f'Precision: {precision_adaboost:.3f}')\n",
    "print(f'Recall: {recall_adaboost:.3f}')\n",
    "print(f'F1 Score: {f1_adaboost:.3f}')\n",
    "print(f'ROC AUC Score: {roc_auc_adaboost:.3f}')"
   ]
  },
  {
   "cell_type": "code",
   "execution_count": 74,
   "metadata": {},
   "outputs": [
    {
     "name": "stdout",
     "output_type": "stream",
     "text": [
      "Bagging 모델 평가 지표:\n",
      "Accuracy: 0.754\n",
      "Precision: 0.663\n",
      "Recall: 0.666\n",
      "F1 스코어: 0.664\n",
      "ROC AUC 스코어: 0.735\n"
     ]
    }
   ],
   "source": [
    "# Bagging 모델 생성 및 학습\n",
    "bagging_model = BaggingClassifier()\n",
    "bagging_model.fit(x_train, y_train)\n",
    "\n",
    "# 예측 및 성능 평가\n",
    "y_pred_bagging = bagging_model.predict(x_test)\n",
    "\n",
    "accuracy_bagging = accuracy_score(y_test, y_pred_bagging)\n",
    "precision_bagging = precision_score(y_test, y_pred_bagging)\n",
    "recall_bagging = recall_score(y_test, y_pred_bagging)\n",
    "f1_bagging = f1_score(y_test, y_pred_bagging)\n",
    "roc_auc_bagging = roc_auc_score(y_test, y_pred_bagging)\n",
    "\n",
    "print(\"Bagging 모델 평가 지표:\")\n",
    "print(f'Accuracy: {accuracy_bagging:.3f}')\n",
    "print(f'Precision: {precision_bagging:.3f}')\n",
    "print(f'Recall: {recall_bagging:.3f}')\n",
    "print(f'F1 스코어: {f1_bagging:.3f}')\n",
    "print(f'ROC AUC 스코어: {roc_auc_bagging:.3f}')"
   ]
  },
  {
   "cell_type": "code",
   "execution_count": 75,
   "metadata": {},
   "outputs": [
    {
     "name": "stdout",
     "output_type": "stream",
     "text": [
      "Fitting 5 folds for each of 10 candidates, totalling 50 fits\n",
      "Best Parameters: {'n_estimators': 100, 'max_samples': 1.0, 'max_features': 0.7}\n",
      "Bagging 모델 하이퍼파라미터 평가 지표:\n",
      "Accuracy: 0.778\n",
      "Precision: 0.676\n",
      "Recall: 0.759\n",
      "F1 Score: 0.715\n",
      "ROC AUC Score: 0.774\n"
     ]
    }
   ],
   "source": [
    "bagging_model = BaggingClassifier()\n",
    "\n",
    "param_grid = {\n",
    "    'n_estimators': [10, 50, 100],\n",
    "    'max_samples': [0.5, 0.7, 1.0],\n",
    "    'max_features': [0.5, 0.7, 1.0]\n",
    "}\n",
    "\n",
    "random_search = RandomizedSearchCV(estimator=bagging_model, param_distributions=param_grid, n_iter=10, \n",
    "                                   scoring='accuracy', cv=5, verbose=1, random_state=42)\n",
    "\n",
    "random_search.fit(x_train, y_train)\n",
    "\n",
    "# 최적의 모델 저장\n",
    "best_model = random_search.best_estimator_\n",
    "\n",
    "# 최적의 모델로 예측 수행\n",
    "y_pred_bagging = best_model.predict(x_test)\n",
    "\n",
    "# 평가 메트릭 계산\n",
    "accuracy_bagging = accuracy_score(y_test, y_pred_bagging)\n",
    "precision_bagging = precision_score(y_test, y_pred_bagging)\n",
    "recall_bagging = recall_score(y_test, y_pred_bagging)\n",
    "f1_bagging = f1_score(y_test, y_pred_bagging)\n",
    "roc_auc_bagging = roc_auc_score(y_test, y_pred_bagging)\n",
    "\n",
    "print(\"Best Parameters:\", random_search.best_params_)\n",
    "print(\"Bagging 모델 하이퍼파라미터 평가 지표:\")\n",
    "print(f'Accuracy: {accuracy_bagging:.3f}')\n",
    "print(f'Precision: {precision_bagging:.3f}')\n",
    "print(f'Recall: {recall_bagging:.3f}')\n",
    "print(f'F1 Score: {f1_bagging:.3f}')\n",
    "print(f'ROC AUC Score: {roc_auc_bagging:.3f}')"
   ]
  },
  {
   "cell_type": "code",
   "execution_count": 76,
   "metadata": {},
   "outputs": [
    {
     "name": "stdout",
     "output_type": "stream",
     "text": [
      "SVM 모델 평가 지표:\n",
      "Accuracy: 0.778\n",
      "Precision: 0.676\n",
      "Recall: 0.759\n",
      "F1 스코어: 0.715\n",
      "ROC AUC 스코어: 0.693\n"
     ]
    }
   ],
   "source": [
    "from sklearn.svm import SVC\n",
    "\n",
    "# SVM 모델 생성 및 학습\n",
    "svm_model = SVC(kernel='linear')\n",
    "svm_model.fit(x_train, y_train)\n",
    "\n",
    "# 예측 및 성능 평가\n",
    "y_pred_svm = svm_model.predict(x_test)\n",
    "\n",
    "accuracy_svm = accuracy_score(y_test, y_pred_svm)\n",
    "precision_svm = precision_score(y_test, y_pred_svm)\n",
    "recall_svm = recall_score(y_test, y_pred_svm)\n",
    "f1_svm = f1_score(y_test, y_pred_svm)\n",
    "roc_auc_svm = roc_auc_score(y_test, y_pred_svm)\n",
    "\n",
    "print(\"SVM 모델 평가 지표:\")\n",
    "print(f'Accuracy: {accuracy_bagging:.3f}')\n",
    "print(f'Precision: {precision_bagging:.3f}')\n",
    "print(f'Recall: {recall_bagging:.3f}')\n",
    "print(f'F1 스코어: {f1_bagging:.3f}')\n",
    "print(f'ROC AUC 스코어: {roc_auc_svm:.3f}')\n"
   ]
  },
  {
   "cell_type": "code",
   "execution_count": 77,
   "metadata": {},
   "outputs": [
    {
     "name": "stdout",
     "output_type": "stream",
     "text": [
      "SVM 모델 평가 지표:\n",
      "Accuracy: 0.778\n",
      "Precision: 0.676\n",
      "Recall: 0.759\n",
      "F1 스코어: 0.715\n",
      "ROC AUC 스코어: 0.740\n"
     ]
    }
   ],
   "source": [
    "from sklearn.svm import SVC\n",
    "\n",
    "# SVM 모델 생성 및 학습\n",
    "svm_model = SVC(kernel='rbf')\n",
    "svm_model.fit(x_train, y_train)\n",
    "\n",
    "# 예측 및 성능 평가\n",
    "y_pred_svm = svm_model.predict(x_test)\n",
    "\n",
    "accuracy_svm = accuracy_score(y_test, y_pred_svm)\n",
    "precision_svm = precision_score(y_test, y_pred_svm)\n",
    "recall_svm = recall_score(y_test, y_pred_svm)\n",
    "f1_svm = f1_score(y_test, y_pred_svm)\n",
    "roc_auc_svm = roc_auc_score(y_test, y_pred_svm)\n",
    "\n",
    "print(\"SVM 모델 평가 지표:\")\n",
    "print(f'Accuracy: {accuracy_bagging:.3f}')\n",
    "print(f'Precision: {precision_bagging:.3f}')\n",
    "print(f'Recall: {recall_bagging:.3f}')\n",
    "print(f'F1 스코어: {f1_bagging:.3f}')\n",
    "print(f'ROC AUC 스코어: {roc_auc_svm:.3f}')\n"
   ]
  },
  {
   "cell_type": "code",
   "execution_count": 78,
   "metadata": {},
   "outputs": [
    {
     "name": "stdout",
     "output_type": "stream",
     "text": [
      "Fitting 5 folds for each of 10 candidates, totalling 50 fits\n",
      "Best Parameters: {'kernel': 'rbf', 'gamma': 0.1, 'C': 10}\n",
      "SVM 모델 평가 지표:\n",
      "Accuracy: 0.759\n",
      "Precision: 0.667\n",
      "Recall: 0.685\n",
      "F1 Score: 0.676\n",
      "ROC AUC Score: 0.743\n"
     ]
    }
   ],
   "source": [
    "svm_model = SVC()\n",
    "\n",
    "param_grid = {\n",
    "    'C': [0.1, 1, 10, 100],  # 규제 매개변수\n",
    "    'gamma': [0.1, 0.01, 0.001, 0.0001],  # 커널 계수\n",
    "    'kernel': ['linear']  # 커널 타입\n",
    "}\n",
    "\n",
    "random_search = RandomizedSearchCV(estimator=svm_model, param_distributions=param_grid, n_iter=10, \n",
    "                                   scoring='accuracy', cv=5, verbose=1, random_state=42)\n",
    "\n",
    "random_search.fit(x_train, y_train)\n",
    "\n",
    "print(\"Best Parameters:\", random_search.best_params_)\n",
    "best_model = random_search.best_estimator_\n",
    "\n",
    "y_pred_svm = best_model.predict(x_test)\n",
    "\n",
    "# 평가 메트릭 계산\n",
    "accuracy_svm = accuracy_score(y_test, y_pred_svm)\n",
    "precision_svm = precision_score(y_test, y_pred_svm)\n",
    "recall_svm = recall_score(y_test, y_pred_svm)\n",
    "f1_svm = f1_score(y_test, y_pred_svm)\n",
    "roc_auc_svm = roc_auc_score(y_test, y_pred_svm)\n",
    "\n",
    "# 평가 메트릭 출력\n",
    "print(\"SVM 모델 평가 지표:\")\n",
    "print(f'Accuracy: {accuracy_svm:.3f}')\n",
    "print(f'Precision: {precision_svm:.3f}')\n",
    "print(f'Recall: {recall_svm:.3f}')\n",
    "print(f'F1 Score: {f1_svm:.3f}')\n",
    "print(f'ROC AUC Score: {roc_auc_svm:.3f}')"
   ]
  },
  {
   "cell_type": "code",
   "execution_count": 7,
   "metadata": {},
   "outputs": [
    {
     "name": "stdout",
     "output_type": "stream",
     "text": [
      "Fitting 5 folds for each of 7 candidates, totalling 35 fits\n",
      "Best Parameters: {'kernel': 'rbf', 'gamma': 0.1, 'C': 10}\n",
      "SVM 모델 평가 지표:\n",
      "Accuracy: 0.777\n",
      "Precision: 0.671\n",
      "Recall: 0.793\n",
      "F1 Score: 0.727\n",
      "ROC AUC Score: 0.781\n"
     ]
    }
   ],
   "source": [
    "svm_model = SVC()\n",
    "\n",
    "param_grid = {\n",
    "    'C': [0.01, 0.1, 1, 10],  # 규제 매개변수\n",
    "    'gamma': [0.1, 0.01, 0.001],  # 커널 계수\n",
    "    'kernel': ['rbf']  # 커널 타입\n",
    "}\n",
    "\n",
    "random_search = RandomizedSearchCV(estimator=svm_model, param_distributions=param_grid, n_iter=7, \n",
    "                                   scoring='accuracy', cv=5, verbose=1, random_state=42)\n",
    "\n",
    "random_search.fit(x_train, y_train)\n",
    "\n",
    "print(\"Best Parameters:\", random_search.best_params_)\n",
    "best_model = random_search.best_estimator_\n",
    "\n",
    "y_pred_svm = best_model.predict(x_test)\n",
    "\n",
    "# 평가 메트릭 계산\n",
    "accuracy_svm = accuracy_score(y_test, y_pred_svm)\n",
    "precision_svm = precision_score(y_test, y_pred_svm)\n",
    "recall_svm = recall_score(y_test, y_pred_svm)\n",
    "f1_svm = f1_score(y_test, y_pred_svm)\n",
    "roc_auc_svm = roc_auc_score(y_test, y_pred_svm)\n",
    "\n",
    "# 평가 메트릭 출력\n",
    "print(\"SVM 모델 평가 지표:\")\n",
    "print(f'Accuracy: {accuracy_svm:.3f}')\n",
    "print(f'Precision: {precision_svm:.3f}')\n",
    "print(f'Recall: {recall_svm:.3f}')\n",
    "print(f'F1 Score: {f1_svm:.3f}')\n",
    "print(f'ROC AUC Score: {roc_auc_svm:.3f}')"
   ]
  },
  {
   "cell_type": "code",
   "execution_count": 79,
   "metadata": {},
   "outputs": [
    {
     "name": "stdout",
     "output_type": "stream",
     "text": [
      "[LightGBM] [Info] Number of positive: 4484, number of negative: 4484\n",
      "[LightGBM] [Info] Auto-choosing col-wise multi-threading, the overhead of testing was 0.000604 seconds.\n",
      "You can set `force_col_wise=true` to remove the overhead.\n",
      "[LightGBM] [Info] Total Bins 2040\n",
      "[LightGBM] [Info] Number of data points in the train set: 8968, number of used features: 8\n",
      "[LightGBM] [Info] [binary:BoostFromScore]: pavg=0.500000 -> initscore=0.000000\n",
      "LightGBM 모델 평가 지표:\n",
      "Accuracy: 0.771\n",
      "Precision: 0.660\n",
      "Recall: 0.773\n",
      "F1 스코어: 0.712\n",
      "ROC AUC 스코어: 0.771\n"
     ]
    }
   ],
   "source": [
    "from lightgbm import LGBMClassifier\n",
    "\n",
    "# LGBM 모델 생성 및 학습\n",
    "lgbm_model = LGBMClassifier()\n",
    "lgbm_model.fit(x_train, y_train)\n",
    "\n",
    "# 예측 및 성능 평가\n",
    "y_pred_lgbm = lgbm_model.predict(x_test)\n",
    "\n",
    "accuracy_lgbm = accuracy_score(y_test, y_pred_lgbm)\n",
    "precision_lgbm = precision_score(y_test, y_pred_lgbm)\n",
    "recall_lgbm = recall_score(y_test, y_pred_lgbm)\n",
    "f1_lgbm = f1_score(y_test, y_pred_lgbm)\n",
    "roc_auc_lgbm = roc_auc_score(y_test, y_pred_lgbm)\n",
    "\n",
    "print(\"LightGBM 모델 평가 지표:\")\n",
    "print(f'Accuracy: {accuracy_lgbm:.3f}')\n",
    "print(f'Precision: {precision_lgbm:.3f}')\n",
    "print(f'Recall: {recall_lgbm:.3f}')\n",
    "print(f'F1 스코어: {f1_lgbm:.3f}')\n",
    "print(f'ROC AUC 스코어: {roc_auc_lgbm:.3f}')\n"
   ]
  },
  {
   "cell_type": "code",
   "execution_count": 14,
   "metadata": {},
   "outputs": [
    {
     "name": "stdout",
     "output_type": "stream",
     "text": [
      "[LightGBM] [Warning] Found whitespace in feature_names, replace with underlines\n",
      "[LightGBM] [Info] Number of positive: 10983, number of negative: 10983\n",
      "[LightGBM] [Info] Auto-choosing col-wise multi-threading, the overhead of testing was 0.001436 seconds.\n",
      "You can set `force_col_wise=true` to remove the overhead.\n",
      "[LightGBM] [Info] Total Bins 3060\n",
      "[LightGBM] [Info] Number of data points in the train set: 21966, number of used features: 12\n",
      "[LightGBM] [Info] [binary:BoostFromScore]: pavg=0.500000 -> initscore=0.000000\n",
      "LGBM 모델 하이퍼파라미터 조정 평가 지표\n",
      "{'num_leaves': 76, 'n_estimators': 79, 'min_child_samples': 19, 'max_depth': 91, 'learning_rate': 0.1}\n",
      "Accuracy: 0.799\n",
      "Precision: 0.694\n",
      "Recall: 0.826\n",
      "F1 스코어: 0.754\n",
      "ROC AUC 스코어: 0.805\n"
     ]
    }
   ],
   "source": [
    "param_grid = {\n",
    "        'learning_rate': [0.001, 0.01, 0.1, 1],\n",
    "        'n_estimators': np.arange(1, 100, 1),\n",
    "        'max_depth': np.arange(1, 100, 1),\n",
    "        'num_leaves': np.arange(1, 100, 1),\n",
    "        'min_child_samples': np.arange(1, 100, 1)\n",
    "    }\n",
    "\n",
    "lgbm = LGBMClassifier()\n",
    "random = RandomizedSearchCV(lgbm, param_grid, cv = 5, n_jobs = -1, n_iter=33)\n",
    "random.fit(x_train,y_train)\n",
    "random_pf = random.best_estimator_.predict(x_test)\n",
    "\n",
    "accuracy_rdrf = accuracy_score(y_test, random_pf)\n",
    "precision_rdrf = precision_score(y_test, random_pf)\n",
    "recall_rdrf = recall_score(y_test, random_pf)\n",
    "f1_rdrf = f1_score(y_test, random_pf)\n",
    "roc_auc_rdrf = roc_auc_score(y_test, random_pf)\n",
    "\n",
    "print(\"LGBM 모델 하이퍼파라미터 조정 평가 지표\")\n",
    "print(random.best_params_)\n",
    "print(f'Accuracy: {accuracy_rdrf:.3f}')\n",
    "print(f'Precision: {precision_rdrf:.3f}')\n",
    "print(f'Recall: {recall_rdrf:.3f}')\n",
    "print(f'F1 스코어: {f1_rdrf:.3f}')\n",
    "print(f'ROC AUC 스코어: {roc_auc_rdrf:.3f}')"
   ]
  },
  {
   "cell_type": "markdown",
   "metadata": {},
   "source": [
    "#### 딥러닝"
   ]
  },
  {
   "cell_type": "code",
   "execution_count": 81,
   "metadata": {},
   "outputs": [],
   "source": [
    "# from tensorflow.keras.models import Sequential\n",
    "# from tensorflow.keras.layers import Dense, Dropout\n",
    "# import tensorflow as tf"
   ]
  },
  {
   "cell_type": "code",
   "execution_count": 82,
   "metadata": {},
   "outputs": [],
   "source": [
    "# model = Sequential()\n",
    "# model.add(Dense(256, input_dim = 12, activation = 'relu'))\n",
    "# model.add(Dropout(0.5))\n",
    "# model.add(Dense(64, activation = 'relu'))\n",
    "# model.add(Dropout(0.5))\n",
    "# model.add(Dense(1, activation = 'sigmoid'))"
   ]
  },
  {
   "cell_type": "code",
   "execution_count": null,
   "metadata": {},
   "outputs": [],
   "source": [
    "# model.compile(loss='binary_crossentropy', optimizer='adam', metrics=['accuracy'])\n",
    "\n",
    "# history = model.fit(x_train, y_train, epochs=200, batch_size=5)\n",
    "\n",
    "# print(\"\\n Accuracy: %.4f\" % (model.evaluate(x_test, y_test)[1]))"
   ]
  },
  {
   "cell_type": "code",
   "execution_count": null,
   "metadata": {},
   "outputs": [],
   "source": [
    "# # 모델을 사용하여 테스트 데이터에 대한 예측 수행\n",
    "# y_pred = model.predict(x_test)\n",
    "# y_pred = binarize(y_pred, threshold=0.5)  # 예측값을 0.5 임계값을 기준으로 이진 분류로 변환\n",
    "\n",
    "# # 정확도(accuracy) 계산\n",
    "# accuracy = accuracy_score(y_test, y_pred)\n",
    "# print(f\"accuracy: {accuracy:.4f}\")\n",
    "\n",
    "# # F1 점수(f1 score) 계산\n",
    "# f1 = f1_score(y_test, y_pred)\n",
    "# print(f\"F1-Score: {f1:.4f}\")\n",
    "\n",
    "# # 재현율(recall) 계산\n",
    "# recall = recall_score(y_test, y_pred)\n",
    "# print(f\"recall: {recall:.4f}\")\n",
    "\n",
    "# # 정밀도(precision) 계산\n",
    "# precision = precision_score(y_test, y_pred)\n",
    "# print(f\"precision: {precision:.4f}\")"
   ]
  },
  {
   "cell_type": "code",
   "execution_count": null,
   "metadata": {},
   "outputs": [],
   "source": []
  },
  {
   "cell_type": "code",
   "execution_count": 18,
   "metadata": {},
   "outputs": [
    {
     "name": "stdout",
     "output_type": "stream",
     "text": [
      "Fitting 5 folds for each of 33 candidates, totalling 165 fits\n",
      "Best Parameters: {'n_estimators': 71, 'learning_rate': 0.1}\n",
      "XGBoost 모델 하이퍼파라미터 조정 평가 지표:\n",
      "Accuracy: 0.793\n",
      "Precision: 0.678\n",
      "Recall: 0.848\n",
      "F1 Score: 0.754\n",
      "ROC AUC Score: 0.804\n"
     ]
    }
   ],
   "source": [
    "# 파라미터 조정\n",
    "xgboost_model = XGBClassifier()\n",
    "\n",
    "param_grid = {\n",
    "    'n_estimators': np.arange(1, 100, 1),  # 트리 개수\n",
    "    'learning_rate': [0.0001, 0.001, 0.01, 0.1, 1]  # 학습률\n",
    "}\n",
    "\n",
    "random_search = RandomizedSearchCV(estimator=xgboost_model, param_distributions=param_grid, n_iter=33,\n",
    "                                   scoring='accuracy', cv=5, verbose=1, random_state=42)\n",
    "\n",
    "random_search.fit(x_train, y_train)\n",
    "\n",
    "best_model = random_search.best_estimator_\n",
    "\n",
    "y_pred_xgboost = best_model.predict(x_test)\n",
    "\n",
    "# 평가 메트릭 계산\n",
    "accuracy_xgboost = accuracy_score(y_test, y_pred_xgboost)\n",
    "precision_xgboost = precision_score(y_test, y_pred_xgboost)\n",
    "recall_xgboost = recall_score(y_test, y_pred_xgboost)\n",
    "f1_xgboost = f1_score(y_test, y_pred_xgboost)\n",
    "roc_auc_xgboost = roc_auc_score(y_test, y_pred_xgboost)\n",
    "\n",
    "print(\"Best Parameters:\", random_search.best_params_)\n",
    "print(\"XGBoost 모델 하이퍼파라미터 조정 평가 지표:\")\n",
    "print(f'Accuracy: {accuracy_xgboost:.3f}')\n",
    "print(f'Precision: {precision_xgboost:.3f}')\n",
    "print(f'Recall: {recall_xgboost:.3f}')\n",
    "print(f'F1 Score: {f1_xgboost:.3f}')\n",
    "print(f'ROC AUC Score: {roc_auc_xgboost:.3f}')\n"
   ]
  },
  {
   "cell_type": "code",
   "execution_count": null,
   "metadata": {},
   "outputs": [],
   "source": [
    "\n",
    "result0_xgboost = {\n",
    "    'Accuracy' : round(accuracy_xgboost, 3),\n",
    "    'Precision' : round(precision_xgboost, 3),\n",
    "    'Recall' : round(recall_xgboost, 3),\n",
    "    'F1' : round(f1_xgboost, 3),\n",
    "    'ROC AUC' : round(roc_auc_xgboost, 3),\n",
    "    'Best Parameters' : random_search.best_params_\n",
    "}\n",
    "best['LGBMClassifier'] = result0_xgboost\n",
    "best"
   ]
  }
 ],
 "metadata": {
  "kernelspec": {
   "display_name": "Python 3",
   "language": "python",
   "name": "python3"
  },
  "language_info": {
   "codemirror_mode": {
    "name": "ipython",
    "version": 3
   },
   "file_extension": ".py",
   "mimetype": "text/x-python",
   "name": "python",
   "nbconvert_exporter": "python",
   "pygments_lexer": "ipython3",
   "version": "3.11.3"
  }
 },
 "nbformat": 4,
 "nbformat_minor": 2
}
