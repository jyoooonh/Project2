{
 "cells": [
  {
   "cell_type": "code",
   "execution_count": 2,
   "metadata": {},
   "outputs": [],
   "source": [
    "import pandas as pd\n",
    "import numpy as np\n",
    "import matplotlib.pyplot as plt\n",
    "import seaborn as sns\n",
    "\n",
    "import warnings\n",
    "warnings.filterwarnings('ignore')\n",
    "\n",
    "from sklearn.ensemble import RandomForestClassifier, BaggingClassifier, AdaBoostClassifier\n",
    "from sklearn.linear_model import LogisticRegression\n",
    "from xgboost import XGBClassifier\n",
    "from sklearn.model_selection import RandomizedSearchCV\n",
    "from sklearn.model_selection import cross_val_score\n",
    "from sklearn.metrics import accuracy_score, precision_score, recall_score, f1_score, roc_auc_score"
   ]
  },
  {
   "cell_type": "code",
   "execution_count": 3,
   "metadata": {},
   "outputs": [],
   "source": [
    "train = pd.read_csv('../../datasets/all_data_smoted_train_data.csv')\n",
    "test = pd.read_csv('../../datasets/all_data_test_data.csv')"
   ]
  },
  {
   "cell_type": "code",
   "execution_count": 4,
   "metadata": {},
   "outputs": [],
   "source": [
    "# train_life_cycle = train[['도입기', '성장기', '성숙기', '쇠퇴기']]\n",
    "# test_life_cycle = test[['도입기', '성장기', '성숙기', '쇠퇴기']]"
   ]
  },
  {
   "cell_type": "code",
   "execution_count": 5,
   "metadata": {},
   "outputs": [],
   "source": [
    "x_train = train[['CASH FLOW 대 부채비율', '순운전자본비율', '자기자본구성비율', '경영자본순이익률', '총자본영업이익률',\n",
    "                 '금융비용부담률', '이윤분배율',\n",
    "                 '도입기', '성장기', '성숙기', '쇠퇴기']]\n",
    "\n",
    "x_test = test[['CASH FLOW 대 부채비율', '순운전자본비율', '자기자본구성비율', '경영자본순이익률', '총자본영업이익률',\n",
    "                 '금융비용부담률', '이윤분배율',\n",
    "                 '도입기', '성장기', '성숙기', '쇠퇴기']]\n",
    "\n",
    "y_train = train['부실판단']\n",
    "y_test = test['부실판단']"
   ]
  },
  {
   "cell_type": "code",
   "execution_count": 6,
   "metadata": {},
   "outputs": [],
   "source": [
    "from sklearn.preprocessing import StandardScaler, MinMaxScaler\n",
    "\n",
    "labels = x_train.columns\n",
    "\n",
    "scaler = StandardScaler()\n",
    "x_train = scaler.fit_transform(x_train)\n",
    "x_test = scaler.transform(x_test)\n",
    "\n",
    "x_train = pd.DataFrame(data=x_train, columns = labels)\n",
    "x_test = pd.DataFrame(data=x_test, columns = labels)"
   ]
  },
  {
   "cell_type": "code",
   "execution_count": 7,
   "metadata": {},
   "outputs": [
    {
     "name": "stdout",
     "output_type": "stream",
     "text": [
      "Accuracy: 0.719\n",
      "Precision: 0.612\n",
      "Recall: 0.673\n",
      "F1 스코어: 0.641\n",
      "ROC AUC 스코어: 0.710\n"
     ]
    }
   ],
   "source": [
    "model = LogisticRegression()\n",
    "model.fit(x_train, y_train)\n",
    "y_pred = model.predict(x_test)\n",
    "\n",
    "accuracy = accuracy_score(y_test, y_pred)\n",
    "precision = precision_score(y_test, y_pred)\n",
    "recall = recall_score(y_test, y_pred)\n",
    "f1 = f1_score(y_test, y_pred)\n",
    "roc_auc = roc_auc_score(y_test, y_pred)\n",
    "\n",
    "\n",
    "print(f'Accuracy: {accuracy:.3f}')\n",
    "print(f'Precision: {precision:.3f}')\n",
    "print(f'Recall: {recall:.3f}')\n",
    "print(f'F1 스코어: {f1:.3f}')\n",
    "print(f'ROC AUC 스코어: {roc_auc:.3f}')\n"
   ]
  },
  {
   "cell_type": "code",
   "execution_count": 8,
   "metadata": {},
   "outputs": [
    {
     "name": "stdout",
     "output_type": "stream",
     "text": [
      "Random Forest 모델 평가 지표\n",
      "Accuracy: 0.934\n",
      "Precision: 0.890\n",
      "Recall: 0.938\n",
      "F1 스코어: 0.913\n",
      "ROC AUC 스코어: 0.935\n"
     ]
    }
   ],
   "source": [
    "# Random Forest 모델 생성 및 학습\n",
    "rf_model = RandomForestClassifier()\n",
    "rf_model.fit(x_train, y_train)\n",
    "\n",
    "# 예측 및 성능 평가\n",
    "y_pred_rf = rf_model.predict(x_test)\n",
    "\n",
    "accuracy_rf = accuracy_score(y_test, y_pred_rf)\n",
    "precision_rf = precision_score(y_test, y_pred_rf)\n",
    "recall_rf = recall_score(y_test, y_pred_rf)\n",
    "f1_rf = f1_score(y_test, y_pred_rf)\n",
    "roc_auc_rf = roc_auc_score(y_test, y_pred_rf)\n",
    "\n",
    "print(\"Random Forest 모델 평가 지표\")\n",
    "print(f'Accuracy: {accuracy_rf:.3f}')\n",
    "print(f'Precision: {precision_rf:.3f}')\n",
    "print(f'Recall: {recall_rf:.3f}')\n",
    "print(f'F1 스코어: {f1_rf:.3f}')\n",
    "print(f'ROC AUC 스코어: {roc_auc_rf:.3f}')\n"
   ]
  },
  {
   "cell_type": "code",
   "execution_count": 9,
   "metadata": {},
   "outputs": [
    {
     "name": "stdout",
     "output_type": "stream",
     "text": [
      "AdaBoost 모델 평가 지표:\n",
      "Accuracy: 0.771\n",
      "Precision: 0.670\n",
      "Recall: 0.760\n",
      "F1 스코어: 0.713\n",
      "ROC AUC 스코어: 0.769\n"
     ]
    }
   ],
   "source": [
    "# AdaBoost 모델 생성 및 학습\n",
    "adaboost_model = AdaBoostClassifier()\n",
    "adaboost_model.fit(x_train, y_train)\n",
    "\n",
    "# 예측 및 성능 평가\n",
    "y_pred_adaboost = adaboost_model.predict(x_test)\n",
    "\n",
    "accuracy_adaboost = accuracy_score(y_test, y_pred_adaboost)\n",
    "precision_adaboost = precision_score(y_test, y_pred_adaboost)\n",
    "recall_adaboost = recall_score(y_test, y_pred_adaboost)\n",
    "f1_adaboost = f1_score(y_test, y_pred_adaboost)\n",
    "roc_auc_adaboost = roc_auc_score(y_test, y_pred_adaboost)\n",
    "\n",
    "print(\"AdaBoost 모델 평가 지표:\")\n",
    "print(f'Accuracy: {accuracy_adaboost:.3f}')\n",
    "print(f'Precision: {precision_adaboost:.3f}')\n",
    "print(f'Recall: {recall_adaboost:.3f}')\n",
    "print(f'F1 스코어: {f1_adaboost:.3f}')\n",
    "print(f'ROC AUC 스코어: {roc_auc_adaboost:.3f}')"
   ]
  },
  {
   "cell_type": "code",
   "execution_count": 10,
   "metadata": {},
   "outputs": [
    {
     "name": "stdout",
     "output_type": "stream",
     "text": [
      "\n",
      "=======Test 데이터 평가======\n",
      "Accuracy: 0.855\n",
      "Precision: 0.781\n",
      "Recall: 0.849\n",
      "F1 스코어: 0.814\n",
      "ROC AUC 스코어: 0.854\n"
     ]
    }
   ],
   "source": [
    "xgboost_model = XGBClassifier()\n",
    "\n",
    "xgboost_model.fit(x_train, y_train)\n",
    "y_pred_xgboost = xgboost_model.predict(x_test)\n",
    "\n",
    "accuracy_xgboost = accuracy_score(y_test, y_pred_xgboost)\n",
    "precision_xgboost = precision_score(y_test, y_pred_xgboost)\n",
    "recall_xgboost = recall_score(y_test, y_pred_xgboost)\n",
    "f1_xgboost = f1_score(y_test, y_pred_xgboost)\n",
    "roc_auc_xgboost = roc_auc_score(y_test, y_pred_xgboost)\n",
    "\n",
    "print(f'\\n=======Test 데이터 평가======')\n",
    "print(f'Accuracy: {accuracy_xgboost:.3f}')\n",
    "print(f'Precision: {precision_xgboost:.3f}')\n",
    "print(f'Recall: {recall_xgboost:.3f}')\n",
    "print(f'F1 스코어: {f1_xgboost:.3f}')\n",
    "print(f'ROC AUC 스코어: {roc_auc_xgboost:.3f}')"
   ]
  },
  {
   "cell_type": "code",
   "execution_count": 11,
   "metadata": {},
   "outputs": [
    {
     "name": "stdout",
     "output_type": "stream",
     "text": [
      "Bagging 모델 평가 지표:\n",
      "Accuracy: 0.923\n",
      "Precision: 0.891\n",
      "Recall: 0.904\n",
      "F1 스코어: 0.897\n",
      "ROC AUC 스코어: 0.919\n"
     ]
    }
   ],
   "source": [
    "# Bagging 모델 생성 및 학습\n",
    "bagging_model = BaggingClassifier()\n",
    "bagging_model.fit(x_train, y_train)\n",
    "\n",
    "# 예측 및 성능 평가\n",
    "y_pred_bagging = bagging_model.predict(x_test)\n",
    "\n",
    "accuracy_bagging = accuracy_score(y_test, y_pred_bagging)\n",
    "precision_bagging = precision_score(y_test, y_pred_bagging)\n",
    "recall_bagging = recall_score(y_test, y_pred_bagging)\n",
    "f1_bagging = f1_score(y_test, y_pred_bagging)\n",
    "roc_auc_bagging = roc_auc_score(y_test, y_pred_bagging)\n",
    "\n",
    "print(\"Bagging 모델 평가 지표:\")\n",
    "print(f'Accuracy: {accuracy_bagging:.3f}')\n",
    "print(f'Precision: {precision_bagging:.3f}')\n",
    "print(f'Recall: {recall_bagging:.3f}')\n",
    "print(f'F1 스코어: {f1_bagging:.3f}')\n",
    "print(f'ROC AUC 스코어: {roc_auc_bagging:.3f}')"
   ]
  },
  {
   "cell_type": "code",
   "execution_count": 12,
   "metadata": {},
   "outputs": [
    {
     "name": "stdout",
     "output_type": "stream",
     "text": [
      "SVM 모델 평가 지표:\n",
      "Accuracy: 0.717\n",
      "Precision: 0.607\n",
      "Recall: 0.683\n",
      "F1 스코어: 0.642\n",
      "ROC AUC 스코어: 0.710\n"
     ]
    }
   ],
   "source": [
    "from sklearn.svm import SVC\n",
    "\n",
    "# SVM 모델 생성 및 학습\n",
    "svm_model = SVC(kernel='linear')\n",
    "svm_model.fit(x_train, y_train)\n",
    "\n",
    "# 예측 및 성능 평가\n",
    "y_pred_svm = svm_model.predict(x_test)\n",
    "\n",
    "accuracy_svm = accuracy_score(y_test, y_pred_svm)\n",
    "precision_svm = precision_score(y_test, y_pred_svm)\n",
    "recall_svm = recall_score(y_test, y_pred_svm)\n",
    "f1_svm = f1_score(y_test, y_pred_svm)\n",
    "roc_auc_svm = roc_auc_score(y_test, y_pred_svm)\n",
    "\n",
    "print(\"SVM 모델 평가 지표:\")\n",
    "print(f'Accuracy: {accuracy_svm:.3f}')\n",
    "print(f'Precision: {precision_svm:.3f}')\n",
    "print(f'Recall: {recall_svm:.3f}')\n",
    "print(f'F1 스코어: {f1_svm:.3f}')\n",
    "print(f'ROC AUC 스코어: {roc_auc_svm:.3f}')\n"
   ]
  },
  {
   "cell_type": "code",
   "execution_count": 13,
   "metadata": {},
   "outputs": [
    {
     "name": "stdout",
     "output_type": "stream",
     "text": [
      "SVM 모델 평가 지표:\n",
      "Accuracy: 0.773\n",
      "Precision: 0.670\n",
      "Recall: 0.773\n",
      "F1 스코어: 0.718\n",
      "ROC AUC 스코어: 0.773\n"
     ]
    }
   ],
   "source": [
    "from sklearn.svm import SVC\n",
    "\n",
    "# SVM 모델 생성 및 학습\n",
    "svm_model = SVC(kernel='rbf')\n",
    "svm_model.fit(x_train, y_train)\n",
    "\n",
    "# 예측 및 성능 평가\n",
    "y_pred_svm = svm_model.predict(x_test)\n",
    "\n",
    "accuracy_svm = accuracy_score(y_test, y_pred_svm)\n",
    "precision_svm = precision_score(y_test, y_pred_svm)\n",
    "recall_svm = recall_score(y_test, y_pred_svm)\n",
    "f1_svm = f1_score(y_test, y_pred_svm)\n",
    "roc_auc_svm = roc_auc_score(y_test, y_pred_svm)\n",
    "\n",
    "print(\"SVM 모델 평가 지표:\")\n",
    "print(f'Accuracy: {accuracy_svm:.3f}')\n",
    "print(f'Precision: {precision_svm:.3f}')\n",
    "print(f'Recall: {recall_svm:.3f}')\n",
    "print(f'F1 스코어: {f1_svm:.3f}')\n",
    "print(f'ROC AUC 스코어: {roc_auc_svm:.3f}')\n"
   ]
  },
  {
   "cell_type": "code",
   "execution_count": 14,
   "metadata": {},
   "outputs": [
    {
     "name": "stdout",
     "output_type": "stream",
     "text": [
      "[LightGBM] [Warning] Found whitespace in feature_names, replace with underlines\n",
      "[LightGBM] [Info] Number of positive: 10948, number of negative: 10948\n",
      "[LightGBM] [Info] Auto-choosing row-wise multi-threading, the overhead of testing was 0.002751 seconds.\n",
      "You can set `force_row_wise=true` to remove the overhead.\n",
      "And if memory is not enough, you can set `force_col_wise=true`.\n",
      "[LightGBM] [Info] Total Bins 1797\n",
      "[LightGBM] [Info] Number of data points in the train set: 21896, number of used features: 11\n",
      "[LightGBM] [Info] [binary:BoostFromScore]: pavg=0.500000 -> initscore=0.000000\n",
      "LightGBM 모델 평가 지표:\n",
      "Accuracy: 0.830\n",
      "Precision: 0.741\n",
      "Recall: 0.836\n",
      "F1 스코어: 0.786\n",
      "ROC AUC 스코어: 0.831\n"
     ]
    }
   ],
   "source": [
    "from lightgbm import LGBMClassifier\n",
    "\n",
    "# LGBM 모델 생성 및 학습\n",
    "lgbm_model = LGBMClassifier()\n",
    "lgbm_model.fit(x_train, y_train)\n",
    "\n",
    "# 예측 및 성능 평가\n",
    "y_pred_lgbm = lgbm_model.predict(x_test)\n",
    "\n",
    "accuracy_lgbm = accuracy_score(y_test, y_pred_lgbm)\n",
    "precision_lgbm = precision_score(y_test, y_pred_lgbm)\n",
    "recall_lgbm = recall_score(y_test, y_pred_lgbm)\n",
    "f1_lgbm = f1_score(y_test, y_pred_lgbm)\n",
    "roc_auc_lgbm = roc_auc_score(y_test, y_pred_lgbm)\n",
    "\n",
    "print(\"LightGBM 모델 평가 지표:\")\n",
    "print(f'Accuracy: {accuracy_lgbm:.3f}')\n",
    "print(f'Precision: {precision_lgbm:.3f}')\n",
    "print(f'Recall: {recall_lgbm:.3f}')\n",
    "print(f'F1 스코어: {f1_lgbm:.3f}')\n",
    "print(f'ROC AUC 스코어: {roc_auc_lgbm:.3f}')\n"
   ]
  },
  {
   "cell_type": "markdown",
   "metadata": {},
   "source": [
    "#### 딥러닝"
   ]
  },
  {
   "cell_type": "code",
   "execution_count": 15,
   "metadata": {},
   "outputs": [],
   "source": [
    "# from tensorflow.keras.models import Sequential\n",
    "# from tensorflow.keras.layers import Dense, Dropout\n",
    "# import tensorflow as tf"
   ]
  },
  {
   "cell_type": "code",
   "execution_count": 16,
   "metadata": {},
   "outputs": [],
   "source": [
    "# model = Sequential()\n",
    "# model.add(Dense(256, input_dim = 12, activation = 'relu'))\n",
    "# model.add(Dropout(0.5))\n",
    "# model.add(Dense(64, activation = 'relu'))\n",
    "# model.add(Dropout(0.5))\n",
    "# model.add(Dense(1, activation = 'sigmoid'))"
   ]
  },
  {
   "cell_type": "code",
   "execution_count": 17,
   "metadata": {},
   "outputs": [],
   "source": [
    "# model.compile(loss='binary_crossentropy', optimizer='adam', metrics=['accuracy'])\n",
    "\n",
    "# history = model.fit(x_train, y_train, epochs=200, batch_size=5)\n",
    "\n",
    "# print(\"\\n Accuracy: %.4f\" % (model.evaluate(x_test, y_test)[1]))"
   ]
  },
  {
   "cell_type": "code",
   "execution_count": 18,
   "metadata": {},
   "outputs": [],
   "source": [
    "# # 모델을 사용하여 테스트 데이터에 대한 예측 수행\n",
    "# y_pred = model.predict(x_test)\n",
    "# y_pred = binarize(y_pred, threshold=0.5)  # 예측값을 0.5 임계값을 기준으로 이진 분류로 변환\n",
    "\n",
    "# # 정확도(accuracy) 계산\n",
    "# accuracy = accuracy_score(y_test, y_pred)\n",
    "# print(f\"accuracy: {accuracy:.4f}\")\n",
    "\n",
    "# # F1 점수(f1 score) 계산\n",
    "# f1 = f1_score(y_test, y_pred)\n",
    "# print(f\"F1-Score: {f1:.4f}\")\n",
    "\n",
    "# # 재현율(recall) 계산\n",
    "# recall = recall_score(y_test, y_pred)\n",
    "# print(f\"recall: {recall:.4f}\")\n",
    "\n",
    "# # 정밀도(precision) 계산\n",
    "# precision = precision_score(y_test, y_pred)\n",
    "# print(f\"precision: {precision:.4f}\")"
   ]
  }
 ],
 "metadata": {
  "kernelspec": {
   "display_name": "Python 3",
   "language": "python",
   "name": "python3"
  },
  "language_info": {
   "codemirror_mode": {
    "name": "ipython",
    "version": 3
   },
   "file_extension": ".py",
   "mimetype": "text/x-python",
   "name": "python",
   "nbconvert_exporter": "python",
   "pygments_lexer": "ipython3",
   "version": "3.11.5"
  }
 },
 "nbformat": 4,
 "nbformat_minor": 2
}
