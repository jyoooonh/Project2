{
 "cells": [
  {
   "cell_type": "code",
   "execution_count": 1,
   "metadata": {},
   "outputs": [],
   "source": [
    "import pandas as pd\n",
    "import numpy as np\n",
    "import matplotlib.pyplot as plt\n",
    "import seaborn as sns\n",
    "\n",
    "import warnings\n",
    "warnings.filterwarnings('ignore')\n",
    "\n",
    "from sklearn.ensemble import RandomForestClassifier, AdaBoostClassifier\n",
    "from sklearn.linear_model import LogisticRegression\n",
    "from sklearn.metrics import accuracy_score, precision_score, recall_score, f1_score, roc_auc_score"
   ]
  },
  {
   "cell_type": "code",
   "execution_count": 2,
   "metadata": {},
   "outputs": [],
   "source": [
    "df = pd.read_csv('./datasets/unlisted_resampled_train_data.csv')\n",
    "df2 = pd.read_csv('./datasets/unlisted_test_data.csv')"
   ]
  },
  {
   "cell_type": "code",
   "execution_count": 3,
   "metadata": {},
   "outputs": [],
   "source": [
    "x_train = df[['자기자본순이익률', 'CASH FLOW 대 매출액비율', 'CASH FLOW 대 차입금비율', '매출액영업이익률', '매출액증가율', \n",
    "              '부채비율', '순운전자본비율', '이윤분배율', '자기자본구성비율', '차입금의존도', '도입기', '성장기', '성숙기', '쇠퇴기']]\n",
    "x_test = df2[['자기자본순이익률', 'CASH FLOW 대 매출액비율', 'CASH FLOW 대 차입금비율', '매출액영업이익률', '매출액증가율', \n",
    "              '부채비율', '순운전자본비율', '이윤분배율', '자기자본구성비율', '차입금의존도', '도입기', '성장기', '성숙기', '쇠퇴기']]\n",
    "\n",
    "y_train = df['부실판단']\n",
    "y_test = df2['부실판단']"
   ]
  },
  {
   "cell_type": "code",
   "execution_count": 4,
   "metadata": {},
   "outputs": [
    {
     "name": "stdout",
     "output_type": "stream",
     "text": [
      "Accuracy: 0.681\n",
      "Precision: 0.549\n",
      "Recall: 0.661\n",
      "F1 스코어: 0.60\n",
      "ROC AUC 스코어: 0.68\n"
     ]
    }
   ],
   "source": [
    "model = LogisticRegression()\n",
    "model.fit(x_train, y_train)\n",
    "y_pred = model.predict(x_test)\n",
    "\n",
    "accuracy = accuracy_score(y_test, y_pred)\n",
    "precision = precision_score(y_test, y_pred)\n",
    "recall = recall_score(y_test, y_pred)\n",
    "f1 = f1_score(y_test, y_pred)\n",
    "\n",
    "if len(np.unique(y_test)) == 2:  # 이진 분류인 경우에만 ROC AUC 계산\n",
    "    roc_auc = roc_auc_score(y_test, y_pred)\n",
    "    \n",
    "\n",
    "print(f'Accuracy: {accuracy:.3f}')\n",
    "print(f'Precision: {precision:.3f}')\n",
    "print(f'Recall: {recall:.3f}')\n",
    "print(f'F1 스코어: {f1:.2f}')\n",
    "print(f'ROC AUC 스코어: {roc_auc:.2f}')\n"
   ]
  },
  {
   "cell_type": "code",
   "execution_count": 7,
   "metadata": {},
   "outputs": [
    {
     "name": "stdout",
     "output_type": "stream",
     "text": [
      "Random Forest 모델 평가 지표:\n",
      "Accuracy: 0.789\n",
      "Precision: 0.684\n",
      "Recall: 0.771\n",
      "F1 스코어: 0.73\n",
      "ROC AUC 스코어: 0.78\n"
     ]
    }
   ],
   "source": [
    "# Random Forest 모델 생성 및 학습\n",
    "rf_model = RandomForestClassifier()\n",
    "rf_model.fit(x_train, y_train)\n",
    "\n",
    "# 예측 및 성능 평가\n",
    "y_pred_rf = rf_model.predict(x_test)\n",
    "\n",
    "accuracy_rf = accuracy_score(y_test, y_pred_rf)\n",
    "precision_rf = precision_score(y_test, y_pred_rf)\n",
    "recall_rf = recall_score(y_test, y_pred_rf)\n",
    "f1_rf = f1_score(y_test, y_pred_rf)\n",
    "\n",
    "if len(np.unique(y_test)) == 2:\n",
    "    roc_auc_rf = roc_auc_score(y_test, y_pred_rf)\n",
    "\n",
    "print(\"Random Forest 모델 평가 지표:\")\n",
    "print(f'Accuracy: {accuracy_rf:.3f}')\n",
    "print(f'Precision: {precision_rf:.3f}')\n",
    "print(f'Recall: {recall_rf:.3f}')\n",
    "print(f'F1 스코어: {f1_rf:.2f}')\n",
    "if len(np.unique(y_test)) == 2:\n",
    "    print(f'ROC AUC 스코어: {roc_auc_rf:.2f}')\n"
   ]
  },
  {
   "cell_type": "code",
   "execution_count": 8,
   "metadata": {},
   "outputs": [
    {
     "name": "stdout",
     "output_type": "stream",
     "text": [
      "AdaBoost 모델 평가 지표:\n",
      "Accuracy: 0.771\n",
      "Precision: 0.669\n",
      "Recall: 0.726\n",
      "F1 스코어: 0.70\n",
      "ROC AUC 스코어: 0.76\n"
     ]
    }
   ],
   "source": [
    "# AdaBoost 모델 생성 및 학습\n",
    "adaboost_model = AdaBoostClassifier()\n",
    "adaboost_model.fit(x_train, y_train)\n",
    "\n",
    "# 예측 및 성능 평가\n",
    "y_pred_adaboost = adaboost_model.predict(x_test)\n",
    "\n",
    "accuracy_adaboost = accuracy_score(y_test, y_pred_adaboost)\n",
    "precision_adaboost = precision_score(y_test, y_pred_adaboost)\n",
    "recall_adaboost = recall_score(y_test, y_pred_adaboost)\n",
    "f1_adaboost = f1_score(y_test, y_pred_adaboost)\n",
    "\n",
    "if len(np.unique(y_test)) == 2:\n",
    "    roc_auc_adaboost = roc_auc_score(y_test, y_pred_adaboost)\n",
    "\n",
    "print(\"AdaBoost 모델 평가 지표:\")\n",
    "print(f'Accuracy: {accuracy_adaboost:.3f}')\n",
    "print(f'Precision: {precision_adaboost:.3f}')\n",
    "print(f'Recall: {recall_adaboost:.3f}')\n",
    "print(f'F1 스코어: {f1_adaboost:.2f}')\n",
    "if len(np.unique(y_test)) == 2:\n",
    "    print(f'ROC AUC 스코어: {roc_auc_adaboost:.2f}')\n"
   ]
  },
  {
   "cell_type": "code",
   "execution_count": 9,
   "metadata": {},
   "outputs": [
    {
     "name": "stdout",
     "output_type": "stream",
     "text": [
      "Bagging 모델 평가 지표:\n",
      "Accuracy: 0.768\n",
      "Precision: 0.673\n",
      "Recall: 0.696\n",
      "F1 스코어: 0.68\n",
      "ROC AUC 스코어: 0.75\n"
     ]
    }
   ],
   "source": [
    "from sklearn.ensemble import BaggingClassifier\n",
    "\n",
    "# Bagging 모델 생성 및 학습\n",
    "bagging_model = BaggingClassifier()\n",
    "bagging_model.fit(x_train, y_train)\n",
    "\n",
    "# 예측 및 성능 평가\n",
    "y_pred_bagging = bagging_model.predict(x_test)\n",
    "\n",
    "accuracy_bagging = accuracy_score(y_test, y_pred_bagging)\n",
    "precision_bagging = precision_score(y_test, y_pred_bagging)\n",
    "recall_bagging = recall_score(y_test, y_pred_bagging)\n",
    "f1_bagging = f1_score(y_test, y_pred_bagging)\n",
    "\n",
    "if len(np.unique(y_test)) == 2:\n",
    "    roc_auc_bagging = roc_auc_score(y_test, y_pred_bagging)\n",
    "\n",
    "print(\"Bagging 모델 평가 지표:\")\n",
    "print(f'Accuracy: {accuracy_bagging:.3f}')\n",
    "print(f'Precision: {precision_bagging:.3f}')\n",
    "print(f'Recall: {recall_bagging:.3f}')\n",
    "print(f'F1 스코어: {f1_bagging:.2f}')\n",
    "if len(np.unique(y_test)) == 2:\n",
    "    print(f'ROC AUC 스코어: {roc_auc_bagging:.2f}')\n"
   ]
  },
  {
   "cell_type": "code",
   "execution_count": 10,
   "metadata": {},
   "outputs": [
    {
     "name": "stdout",
     "output_type": "stream",
     "text": [
      "SVM 모델 평가 지표:\n",
      "Accuracy: 0.697\n",
      "Precision: 0.645\n",
      "Recall: 0.361\n",
      "F1 스코어: 0.46\n"
     ]
    }
   ],
   "source": [
    "from sklearn.svm import SVC\n",
    "\n",
    "# SVM 모델 생성 및 학습\n",
    "svm_model = SVC()\n",
    "svm_model.fit(x_train, y_train)\n",
    "\n",
    "# 예측 및 성능 평가\n",
    "y_pred_svm = svm_model.predict(x_test)\n",
    "\n",
    "accuracy_svm = accuracy_score(y_test, y_pred_svm)\n",
    "precision_svm = precision_score(y_test, y_pred_svm)\n",
    "recall_svm = recall_score(y_test, y_pred_svm)\n",
    "f1_svm = f1_score(y_test, y_pred_svm)\n",
    "\n",
    "print(\"SVM 모델 평가 지표:\")\n",
    "print(f'Accuracy: {accuracy_svm:.3f}')\n",
    "print(f'Precision: {precision_svm:.3f}')\n",
    "print(f'Recall: {recall_svm:.3f}')\n",
    "print(f'F1 스코어: {f1_svm:.2f}')\n"
   ]
  },
  {
   "cell_type": "code",
   "execution_count": 11,
   "metadata": {},
   "outputs": [
    {
     "name": "stdout",
     "output_type": "stream",
     "text": [
      "[LightGBM] [Warning] Found whitespace in feature_names, replace with underlines\n",
      "[LightGBM] [Info] Number of positive: 4333, number of negative: 4333\n",
      "[LightGBM] [Info] Auto-choosing col-wise multi-threading, the overhead of testing was 0.000593 seconds.\n",
      "You can set `force_col_wise=true` to remove the overhead.\n",
      "[LightGBM] [Info] Total Bins 2558\n",
      "[LightGBM] [Info] Number of data points in the train set: 8666, number of used features: 14\n",
      "[LightGBM] [Info] [binary:BoostFromScore]: pavg=0.500000 -> initscore=0.000000\n",
      "LightGBM 모델 평가 지표:\n",
      "Accuracy: 0.792\n",
      "Precision: 0.687\n",
      "Recall: 0.782\n",
      "F1 스코어: 0.73\n"
     ]
    }
   ],
   "source": [
    "from lightgbm import LGBMClassifier\n",
    "\n",
    "# LGBM 모델 생성 및 학습\n",
    "lgbm_model = LGBMClassifier()\n",
    "lgbm_model.fit(x_train, y_train)\n",
    "\n",
    "# 예측 및 성능 평가\n",
    "y_pred_lgbm = lgbm_model.predict(x_test)\n",
    "\n",
    "accuracy_lgbm = accuracy_score(y_test, y_pred_lgbm)\n",
    "precision_lgbm = precision_score(y_test, y_pred_lgbm)\n",
    "recall_lgbm = recall_score(y_test, y_pred_lgbm)\n",
    "f1_lgbm = f1_score(y_test, y_pred_lgbm)\n",
    "\n",
    "print(\"LightGBM 모델 평가 지표:\")\n",
    "print(f'Accuracy: {accuracy_lgbm:.3f}')\n",
    "print(f'Precision: {precision_lgbm:.3f}')\n",
    "print(f'Recall: {recall_lgbm:.3f}')\n",
    "print(f'F1 스코어: {f1_lgbm:.2f}')\n"
   ]
  }
 ],
 "metadata": {
  "kernelspec": {
   "display_name": "Python 3",
   "language": "python",
   "name": "python3"
  },
  "language_info": {
   "codemirror_mode": {
    "name": "ipython",
    "version": 3
   },
   "file_extension": ".py",
   "mimetype": "text/x-python",
   "name": "python",
   "nbconvert_exporter": "python",
   "pygments_lexer": "ipython3",
   "version": "3.11.5"
  }
 },
 "nbformat": 4,
 "nbformat_minor": 2
}
