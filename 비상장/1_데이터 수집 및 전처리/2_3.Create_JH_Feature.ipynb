{
 "cells": [
  {
   "cell_type": "code",
   "execution_count": 68,
   "metadata": {},
   "outputs": [],
   "source": [
    "import pandas as pd\n",
    "import numpy as np\n",
    "import platform\n",
    "import pandas as pd\n",
    "import numpy as np\n",
    "import seaborn as sns\n",
    "import matplotlib.pyplot as plt\n",
    "if platform.system() == \"Darwin\":           # MAC인 경우\n",
    "    plt.rc('font', family =\"AppleGothic\")\n",
    "else:\n",
    "    plt.rc('font',family='Malgun Gothic')\n",
    "\n",
    "#멧플로립에서 음수를 표시\n",
    "plt.rc('axes',unicode_minus=False)\n",
    "\n",
    "#워닝 메시지\n",
    "import warnings\n",
    "warnings.filterwarnings('ignore')\n",
    "\n",
    "\n",
    "# pd.reset_optioen('display.max_row')"
   ]
  },
  {
   "cell_type": "code",
   "execution_count": 69,
   "metadata": {},
   "outputs": [
    {
     "data": {
      "text/html": [
       "<div>\n",
       "<style scoped>\n",
       "    .dataframe tbody tr th:only-of-type {\n",
       "        vertical-align: middle;\n",
       "    }\n",
       "\n",
       "    .dataframe tbody tr th {\n",
       "        vertical-align: top;\n",
       "    }\n",
       "\n",
       "    .dataframe thead th {\n",
       "        text-align: right;\n",
       "    }\n",
       "</style>\n",
       "<table border=\"1\" class=\"dataframe\">\n",
       "  <thead>\n",
       "    <tr style=\"text-align: right;\">\n",
       "      <th></th>\n",
       "      <th>회사명</th>\n",
       "      <th>거래소코드</th>\n",
       "      <th>회계년도</th>\n",
       "      <th>매출액(영업수익)(*)(천원)</th>\n",
       "      <th>판매비와관리비(영업비용)(*)(천원)</th>\n",
       "      <th>매출액(수익)(*)(IFRS)(천원)</th>\n",
       "      <th>판매비와 관리비(물류원가 등 포함)(*)(IFRS)(천원)</th>\n",
       "      <th>매출액(수익)(*)(IFRS연결)(천원)</th>\n",
       "      <th>판매비와 관리비(물류원가 등 포함)(*)(IFRS연결)(천원)</th>\n",
       "    </tr>\n",
       "  </thead>\n",
       "  <tbody>\n",
       "    <tr>\n",
       "      <th>0</th>\n",
       "      <td>(유)가든주류</td>\n",
       "      <td>97082</td>\n",
       "      <td>2019/12</td>\n",
       "      <td>50510093.0</td>\n",
       "      <td>7274819.0</td>\n",
       "      <td>NaN</td>\n",
       "      <td>NaN</td>\n",
       "      <td>NaN</td>\n",
       "      <td>NaN</td>\n",
       "    </tr>\n",
       "    <tr>\n",
       "      <th>1</th>\n",
       "      <td>(유)가든주류</td>\n",
       "      <td>97082</td>\n",
       "      <td>2020/12</td>\n",
       "      <td>44082032.0</td>\n",
       "      <td>5737424.0</td>\n",
       "      <td>NaN</td>\n",
       "      <td>NaN</td>\n",
       "      <td>NaN</td>\n",
       "      <td>NaN</td>\n",
       "    </tr>\n",
       "    <tr>\n",
       "      <th>2</th>\n",
       "      <td>(유)가든주류</td>\n",
       "      <td>97082</td>\n",
       "      <td>2021/12</td>\n",
       "      <td>38043897.0</td>\n",
       "      <td>4660491.0</td>\n",
       "      <td>NaN</td>\n",
       "      <td>NaN</td>\n",
       "      <td>NaN</td>\n",
       "      <td>NaN</td>\n",
       "    </tr>\n",
       "    <tr>\n",
       "      <th>3</th>\n",
       "      <td>(유)가든주류</td>\n",
       "      <td>97082</td>\n",
       "      <td>2022/12</td>\n",
       "      <td>32820256.0</td>\n",
       "      <td>8844720.0</td>\n",
       "      <td>NaN</td>\n",
       "      <td>NaN</td>\n",
       "      <td>NaN</td>\n",
       "      <td>NaN</td>\n",
       "    </tr>\n",
       "    <tr>\n",
       "      <th>4</th>\n",
       "      <td>(유)기흥모터스</td>\n",
       "      <td>94470</td>\n",
       "      <td>2019/12</td>\n",
       "      <td>78427042.0</td>\n",
       "      <td>16733896.0</td>\n",
       "      <td>NaN</td>\n",
       "      <td>NaN</td>\n",
       "      <td>NaN</td>\n",
       "      <td>NaN</td>\n",
       "    </tr>\n",
       "    <tr>\n",
       "      <th>...</th>\n",
       "      <td>...</td>\n",
       "      <td>...</td>\n",
       "      <td>...</td>\n",
       "      <td>...</td>\n",
       "      <td>...</td>\n",
       "      <td>...</td>\n",
       "      <td>...</td>\n",
       "      <td>...</td>\n",
       "      <td>...</td>\n",
       "    </tr>\n",
       "    <tr>\n",
       "      <th>22532</th>\n",
       "      <td>힐링홈스주식회사</td>\n",
       "      <td>84799</td>\n",
       "      <td>2017/12</td>\n",
       "      <td>9907076.0</td>\n",
       "      <td>376007.0</td>\n",
       "      <td>NaN</td>\n",
       "      <td>NaN</td>\n",
       "      <td>NaN</td>\n",
       "      <td>NaN</td>\n",
       "    </tr>\n",
       "    <tr>\n",
       "      <th>22533</th>\n",
       "      <td>힐링홈스주식회사</td>\n",
       "      <td>84799</td>\n",
       "      <td>2018/12</td>\n",
       "      <td>15512953.0</td>\n",
       "      <td>771344.0</td>\n",
       "      <td>NaN</td>\n",
       "      <td>NaN</td>\n",
       "      <td>NaN</td>\n",
       "      <td>NaN</td>\n",
       "    </tr>\n",
       "    <tr>\n",
       "      <th>22534</th>\n",
       "      <td>힐중공업주식회사</td>\n",
       "      <td>82007</td>\n",
       "      <td>2016/12</td>\n",
       "      <td>8029170.0</td>\n",
       "      <td>895855.0</td>\n",
       "      <td>NaN</td>\n",
       "      <td>NaN</td>\n",
       "      <td>NaN</td>\n",
       "      <td>NaN</td>\n",
       "    </tr>\n",
       "    <tr>\n",
       "      <th>22535</th>\n",
       "      <td>힐중공업주식회사</td>\n",
       "      <td>82007</td>\n",
       "      <td>2017/12</td>\n",
       "      <td>11633198.0</td>\n",
       "      <td>1043041.0</td>\n",
       "      <td>NaN</td>\n",
       "      <td>NaN</td>\n",
       "      <td>NaN</td>\n",
       "      <td>NaN</td>\n",
       "    </tr>\n",
       "    <tr>\n",
       "      <th>22536</th>\n",
       "      <td>힐중공업주식회사</td>\n",
       "      <td>82007</td>\n",
       "      <td>2018/12</td>\n",
       "      <td>6687364.0</td>\n",
       "      <td>681588.0</td>\n",
       "      <td>NaN</td>\n",
       "      <td>NaN</td>\n",
       "      <td>NaN</td>\n",
       "      <td>NaN</td>\n",
       "    </tr>\n",
       "  </tbody>\n",
       "</table>\n",
       "<p>243662 rows × 9 columns</p>\n",
       "</div>"
      ],
      "text/plain": [
       "            회사명  거래소코드     회계년도  매출액(영업수익)(*)(천원)  판매비와관리비(영업비용)(*)(천원)  \\\n",
       "0       (유)가든주류  97082  2019/12        50510093.0             7274819.0   \n",
       "1       (유)가든주류  97082  2020/12        44082032.0             5737424.0   \n",
       "2       (유)가든주류  97082  2021/12        38043897.0             4660491.0   \n",
       "3       (유)가든주류  97082  2022/12        32820256.0             8844720.0   \n",
       "4      (유)기흥모터스  94470  2019/12        78427042.0            16733896.0   \n",
       "...         ...    ...      ...               ...                   ...   \n",
       "22532  힐링홈스주식회사  84799  2017/12         9907076.0              376007.0   \n",
       "22533  힐링홈스주식회사  84799  2018/12        15512953.0              771344.0   \n",
       "22534  힐중공업주식회사  82007  2016/12         8029170.0              895855.0   \n",
       "22535  힐중공업주식회사  82007  2017/12        11633198.0             1043041.0   \n",
       "22536  힐중공업주식회사  82007  2018/12         6687364.0              681588.0   \n",
       "\n",
       "       매출액(수익)(*)(IFRS)(천원)  판매비와 관리비(물류원가 등 포함)(*)(IFRS)(천원)  \\\n",
       "0                       NaN                               NaN   \n",
       "1                       NaN                               NaN   \n",
       "2                       NaN                               NaN   \n",
       "3                       NaN                               NaN   \n",
       "4                       NaN                               NaN   \n",
       "...                     ...                               ...   \n",
       "22532                   NaN                               NaN   \n",
       "22533                   NaN                               NaN   \n",
       "22534                   NaN                               NaN   \n",
       "22535                   NaN                               NaN   \n",
       "22536                   NaN                               NaN   \n",
       "\n",
       "       매출액(수익)(*)(IFRS연결)(천원)  판매비와 관리비(물류원가 등 포함)(*)(IFRS연결)(천원)  \n",
       "0                         NaN                                 NaN  \n",
       "1                         NaN                                 NaN  \n",
       "2                         NaN                                 NaN  \n",
       "3                         NaN                                 NaN  \n",
       "4                         NaN                                 NaN  \n",
       "...                       ...                                 ...  \n",
       "22532                     NaN                                 NaN  \n",
       "22533                     NaN                                 NaN  \n",
       "22534                     NaN                                 NaN  \n",
       "22535                     NaN                                 NaN  \n",
       "22536                     NaN                                 NaN  \n",
       "\n",
       "[243662 rows x 9 columns]"
      ]
     },
     "execution_count": 69,
     "metadata": {},
     "output_type": "execute_result"
    }
   ],
   "source": [
    "unlisted = pd.read_csv('../1.데이터셋/비상장_쭈피처데이터.csv', encoding='cp949', index_col=0)\n",
    "unlisted"
   ]
  },
  {
   "cell_type": "code",
   "execution_count": 70,
   "metadata": {},
   "outputs": [
    {
     "data": {
      "text/plain": [
       "회사명                                        0\n",
       "거래소코드                                      0\n",
       "회계년도                                       0\n",
       "매출액(영업수익)(*)(천원)                          42\n",
       "판매비와관리비(영업비용)(*)(천원)                      42\n",
       "매출액(수익)(*)(IFRS)(천원)                  233541\n",
       "판매비와 관리비(물류원가 등 포함)(*)(IFRS)(천원)      233541\n",
       "매출액(수익)(*)(IFRS연결)(천원)                240923\n",
       "판매비와 관리비(물류원가 등 포함)(*)(IFRS연결)(천원)    240923\n",
       "dtype: int64"
      ]
     },
     "execution_count": 70,
     "metadata": {},
     "output_type": "execute_result"
    }
   ],
   "source": [
    "unlisted.isna().sum()"
   ]
  },
  {
   "cell_type": "code",
   "execution_count": 71,
   "metadata": {},
   "outputs": [
    {
     "name": "stdout",
     "output_type": "stream",
     "text": [
      "41\n"
     ]
    }
   ],
   "source": [
    "unlisted[\"매출액(영업수익)(*)(천원)\"] = unlisted[\"매출액(영업수익)(*)(천원)\"].fillna(\n",
    "    unlisted[\"매출액(수익)(*)(IFRS)(천원)\"]\n",
    ")\n",
    "unlisted[\"매출액(영업수익)(*)(천원)\"] = unlisted[\"매출액(영업수익)(*)(천원)\"].fillna(\n",
    "    unlisted[\"매출액(수익)(*)(IFRS연결)(천원)\"]\n",
    ")\n",
    "print(unlisted[\"매출액(영업수익)(*)(천원)\"].isnull().sum())\n",
    "#unlisted[\"매출액(영업수익)(*)(천원)\"].info"
   ]
  },
  {
   "cell_type": "code",
   "execution_count": 72,
   "metadata": {},
   "outputs": [
    {
     "name": "stdout",
     "output_type": "stream",
     "text": [
      "41\n"
     ]
    }
   ],
   "source": [
    "unlisted[\"판매비와관리비(영업비용)(*)(천원)\"] = unlisted[\"판매비와관리비(영업비용)(*)(천원)\"].fillna(\n",
    "    unlisted[\"판매비와 관리비(물류원가 등 포함)(*)(IFRS)(천원)\"]\n",
    ")\n",
    "unlisted[\"판매비와관리비(영업비용)(*)(천원)\"] = unlisted[\"판매비와관리비(영업비용)(*)(천원)\"].fillna(\n",
    "    unlisted[\"판매비와 관리비(물류원가 등 포함)(*)(IFRS연결)(천원)\"]\n",
    ")\n",
    "print(unlisted[\"판매비와관리비(영업비용)(*)(천원)\"].isnull().sum())"
   ]
  },
  {
   "cell_type": "code",
   "execution_count": 73,
   "metadata": {},
   "outputs": [
    {
     "name": "stdout",
     "output_type": "stream",
     "text": [
      "<class 'pandas.core.frame.DataFrame'>\n",
      "Index: 243662 entries, 0 to 22536\n",
      "Data columns (total 5 columns):\n",
      " #   Column                Non-Null Count   Dtype  \n",
      "---  ------                --------------   -----  \n",
      " 0   회사명                   243662 non-null  object \n",
      " 1   거래소코드                 243662 non-null  int64  \n",
      " 2   회계년도                  243662 non-null  object \n",
      " 3   매출액(영업수익)(*)(천원)      243621 non-null  float64\n",
      " 4   판매비와관리비(영업비용)(*)(천원)  243621 non-null  float64\n",
      "dtypes: float64(2), int64(1), object(2)\n",
      "memory usage: 11.2+ MB\n"
     ]
    }
   ],
   "source": [
    "unlisted.drop(\n",
    "    columns=[\n",
    "        \"매출액(수익)(*)(IFRS)(천원)\",\n",
    "        \"판매비와 관리비(물류원가 등 포함)(*)(IFRS)(천원)\",\n",
    "        \"매출액(수익)(*)(IFRS연결)(천원)\",\n",
    "        \"판매비와 관리비(물류원가 등 포함)(*)(IFRS연결)(천원)\",\n",
    "    ],\n",
    "    axis=1,\n",
    "    inplace=True,\n",
    "    errors=\"ignore\",\n",
    ")\n",
    "unlisted.info()\n",
    "# unlisted = unlisted[unlisted[\"판매비와관리비(영업비용)(*)(천원)\"] < 0]"
   ]
  },
  {
   "cell_type": "code",
   "execution_count": 74,
   "metadata": {},
   "outputs": [
    {
     "name": "stdout",
     "output_type": "stream",
     "text": [
      "<class 'pandas.core.frame.DataFrame'>\n",
      "Index: 229191 entries, 0 to 22536\n",
      "Data columns (total 5 columns):\n",
      " #   Column                Non-Null Count   Dtype  \n",
      "---  ------                --------------   -----  \n",
      " 0   회사명                   229191 non-null  object \n",
      " 1   거래소코드                 229191 non-null  int64  \n",
      " 2   회계년도                  229191 non-null  object \n",
      " 3   매출액(영업수익)(*)(천원)      229191 non-null  float64\n",
      " 4   판매비와관리비(영업비용)(*)(천원)  229191 non-null  float64\n",
      "dtypes: float64(2), int64(1), object(2)\n",
      "memory usage: 10.5+ MB\n"
     ]
    },
    {
     "data": {
      "text/plain": [
       "42121"
      ]
     },
     "execution_count": 74,
     "metadata": {},
     "output_type": "execute_result"
    }
   ],
   "source": [
    "#  매출액 0 과 음수 나오는 회사 제외하기 : 14,471 개 제외\n",
    "unlisted = unlisted[unlisted[\"매출액(영업수익)(*)(천원)\"] > 0]\n",
    "unlisted = unlisted[unlisted[\"판매비와관리비(영업비용)(*)(천원)\"] > 0]\n",
    "#\n",
    "#\n",
    "#   매출액 0 과 음수 나오는 회사\n",
    "filltered = unlisted[unlisted[\"매출액(영업수익)(*)(천원)\"] <= 0]\n",
    "unlisted.info()\n",
    "len(unlisted[\"회사명\"].unique())"
   ]
  },
  {
   "cell_type": "code",
   "execution_count": 75,
   "metadata": {},
   "outputs": [
    {
     "data": {
      "text/plain": [
       "count    2.291910e+05\n",
       "mean     6.325466e+00\n",
       "std      1.229353e+03\n",
       "min      8.456736e-07\n",
       "25%      8.207498e-02\n",
       "50%      1.540027e-01\n",
       "75%      3.830109e-01\n",
       "max      5.452935e+05\n",
       "Name: new_feature, dtype: float64"
      ]
     },
     "execution_count": 75,
     "metadata": {},
     "output_type": "execute_result"
    }
   ],
   "source": [
    "unlisted[\"new_feature\"] = (\n",
    "    unlisted[\"판매비와관리비(영업비용)(*)(천원)\"] / unlisted[\"매출액(영업수익)(*)(천원)\"]\n",
    ")\n",
    "unlisted[\"new_feature\"].describe()"
   ]
  },
  {
   "cell_type": "code",
   "execution_count": 76,
   "metadata": {},
   "outputs": [],
   "source": [
    "unlisted.drop(\n",
    "    columns=[\"매출액(영업수익)(*)(천원)\", \"판매비와관리비(영업비용)(*)(천원)\"],\n",
    "    axis=1,\n",
    "    inplace=True,\n",
    "    errors=\"ignore\",\n",
    ")\n",
    "unlisted.columns\n",
    "unlisted.to_csv(\"../1.데이터셋/피처생성/비상장_주피처.csv\")"
   ]
  }
 ],
 "metadata": {
  "kernelspec": {
   "display_name": "Python 3",
   "language": "python",
   "name": "python3"
  },
  "language_info": {
   "codemirror_mode": {
    "name": "ipython",
    "version": 3
   },
   "file_extension": ".py",
   "mimetype": "text/x-python",
   "name": "python",
   "nbconvert_exporter": "python",
   "pygments_lexer": "ipython3",
   "version": "3.11.4"
  }
 },
 "nbformat": 4,
 "nbformat_minor": 2
}
