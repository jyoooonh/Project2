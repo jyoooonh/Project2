{
 "cells": [
  {
   "cell_type": "markdown",
   "metadata": {},
   "source": [
    "목표 : 현금흐름 파생변수 Cash Flow Derived Variable 만들기\n",
    "========\n",
    "- OMI-CF : 영업현금흐름 - 투자현금흐름\n",
    "- OMS-CF : 영업현금흐름 - 재무현금흐름\n",
    "- ODI-CF : 영업현금흐름 / 투자현금흐름\n",
    "- ODS-CF : 영업현금흐름 / 재무현금흐름"
   ]
  },
  {
   "cell_type": "markdown",
   "metadata": {},
   "source": [
    "load modules"
   ]
  },
  {
   "cell_type": "code",
   "execution_count": 1,
   "metadata": {},
   "outputs": [
    {
     "name": "stdout",
     "output_type": "stream",
     "text": [
      "현재 디렉토리: /Users/haph/Study/ubion/Project2/비상장/2.데이터전처리\n"
     ]
    }
   ],
   "source": [
    "import pandas as pd\n",
    "import numpy as np\n",
    "import platform\n",
    "\n",
    "#워닝 메시지\n",
    "import warnings\n",
    "warnings.filterwarnings('ignore')\n",
    "\n",
    "import os\n",
    "current_directory = os.getcwd()\n",
    "print(\"현재 디렉토리:\", current_directory)"
   ]
  },
  {
   "cell_type": "markdown",
   "metadata": {},
   "source": [
    "환경설정"
   ]
  },
  {
   "cell_type": "code",
   "execution_count": 2,
   "metadata": {},
   "outputs": [],
   "source": [
    "# pd.set_option('display.max_rows', None)\n",
    "pd.reset_option('display.max_rows')\n",
    "\n",
    "# pd.set_option('display.max_columns', None)\n",
    "pd.reset_option('display.max_columns')\n",
    "\n",
    "pd.set_option('display.max_seq_items', None)\n",
    "\n",
    "pd.set_option('float_format', '{:.3f}'.format) # 소수점 3개까지 출력"
   ]
  },
  {
   "cell_type": "markdown",
   "metadata": {},
   "source": [
    "read csv files"
   ]
  },
  {
   "cell_type": "code",
   "execution_count": 3,
   "metadata": {},
   "outputs": [],
   "source": [
    "uncash = pd.read_csv(\"../1.데이터셋/비상장_현금흐름.csv\", index_col=0)"
   ]
  },
  {
   "cell_type": "markdown",
   "metadata": {},
   "source": [
    "# 비상장 현금흐름 uncash"
   ]
  },
  {
   "cell_type": "markdown",
   "metadata": {},
   "source": [
    "## describe"
   ]
  },
  {
   "cell_type": "code",
   "execution_count": 4,
   "metadata": {},
   "outputs": [
    {
     "data": {
      "text/plain": [
       "[U01D100000000]영업활동으로 인한 현금흐름(간접법)(*)(IFRS연결)(천원)   98.871\n",
       "[U01D200000000]투자활동으로 인한 현금흐름(*)(IFRS연결)(천원)        98.871\n",
       "[U01D300000000]재무활동으로 인한 현금흐름(*)(IFRS연결)(천원)        98.871\n",
       "[U01D100000000]영업활동으로 인한 현금흐름(간접법)(*)(IFRS)(천원)     95.826\n",
       "[U01D200000000]투자활동으로 인한 현금흐름(*)(IFRS)(천원)          95.826\n",
       "[U01D300000000]재무활동으로 인한 현금흐름(*)(IFRS)(천원)          95.826\n",
       "[U01410000]영업활동으로 인한 현금흐름(*)(천원)                     0.020\n",
       "[U01440000]투자활동으로 인한 현금흐름(*)(천원)                     0.020\n",
       "[U01450000]재무활동으로 인한 현금흐름(*)(천원)                     0.020\n",
       "회사명                                                  0.000\n",
       "거래소코드                                                0.000\n",
       "회계년도                                                 0.000\n",
       "dtype: float64"
      ]
     },
     "execution_count": 4,
     "metadata": {},
     "output_type": "execute_result"
    }
   ],
   "source": [
    "uncash.isnull().sum().sort_values(ascending=False) / len(uncash) * 100"
   ]
  },
  {
   "cell_type": "code",
   "execution_count": 5,
   "metadata": {},
   "outputs": [
    {
     "data": {
      "text/plain": [
       "[U01450000]재무활동으로 인한 현금흐름(*)(천원)                     17621\n",
       "[U01440000]투자활동으로 인한 현금흐름(*)(천원)                     10474\n",
       "[U01410000]영업활동으로 인한 현금흐름(*)(천원)                      3013\n",
       "[U01D300000000]재무활동으로 인한 현금흐름(*)(IFRS)(천원)             640\n",
       "[U01D200000000]투자활동으로 인한 현금흐름(*)(IFRS)(천원)             383\n",
       "[U01D300000000]재무활동으로 인한 현금흐름(*)(IFRS연결)(천원)            58\n",
       "[U01D200000000]투자활동으로 인한 현금흐름(*)(IFRS연결)(천원)            55\n",
       "[U01D100000000]영업활동으로 인한 현금흐름(간접법)(*)(IFRS)(천원)         29\n",
       "[U01D100000000]영업활동으로 인한 현금흐름(간접법)(*)(IFRS연결)(천원)        3\n",
       "회사명                                                      0\n",
       "거래소코드                                                    0\n",
       "회계년도                                                     0\n",
       "dtype: int64"
      ]
     },
     "execution_count": 5,
     "metadata": {},
     "output_type": "execute_result"
    }
   ],
   "source": [
    "uncash.isin([0]).sum().sort_values(ascending=False)"
   ]
  },
  {
   "cell_type": "code",
   "execution_count": 6,
   "metadata": {},
   "outputs": [
    {
     "data": {
      "text/plain": [
       "회사명                                                  0\n",
       "거래소코드                                                0\n",
       "회계년도                                                 0\n",
       "[U01410000]영업활동으로 인한 현금흐름(*)(천원)                     0\n",
       "[U01440000]투자활동으로 인한 현금흐름(*)(천원)                     0\n",
       "[U01450000]재무활동으로 인한 현금흐름(*)(천원)                     0\n",
       "[U01D100000000]영업활동으로 인한 현금흐름(간접법)(*)(IFRS)(천원)      0\n",
       "[U01D200000000]투자활동으로 인한 현금흐름(*)(IFRS)(천원)           0\n",
       "[U01D300000000]재무활동으로 인한 현금흐름(*)(IFRS)(천원)           0\n",
       "[U01D100000000]영업활동으로 인한 현금흐름(간접법)(*)(IFRS연결)(천원)    0\n",
       "[U01D200000000]투자활동으로 인한 현금흐름(*)(IFRS연결)(천원)         0\n",
       "[U01D300000000]재무활동으로 인한 현금흐름(*)(IFRS연결)(천원)         0\n",
       "dtype: int64"
      ]
     },
     "execution_count": 6,
     "metadata": {},
     "output_type": "execute_result"
    }
   ],
   "source": [
    "uncash.isin([np.inf]).sum().sort_values(ascending=False)"
   ]
  },
  {
   "cell_type": "code",
   "execution_count": 7,
   "metadata": {},
   "outputs": [
    {
     "data": {
      "text/plain": [
       "248324"
      ]
     },
     "execution_count": 7,
     "metadata": {},
     "output_type": "execute_result"
    }
   ],
   "source": [
    "len(uncash)"
   ]
  },
  {
   "cell_type": "markdown",
   "metadata": {},
   "source": [
    "전처리?"
   ]
  },
  {
   "cell_type": "code",
   "execution_count": 8,
   "metadata": {},
   "outputs": [],
   "source": [
    "uncash.replace(0, np.nan, inplace=True)"
   ]
  },
  {
   "cell_type": "markdown",
   "metadata": {},
   "source": [
    "## 항목"
   ]
  },
  {
   "cell_type": "markdown",
   "metadata": {},
   "source": [
    "외감영업현금흐름"
   ]
  },
  {
   "cell_type": "code",
   "execution_count": 9,
   "metadata": {},
   "outputs": [],
   "source": [
    "외감영업현금흐름 = uncash['[U01D100000000]영업활동으로 인한 현금흐름(간접법)(*)(IFRS연결)(천원)'].fillna(uncash['[U01D100000000]영업활동으로 인한 현금흐름(간접법)(*)(IFRS)(천원)'])\n",
    "외감영업현금흐름 = 외감영업현금흐름.fillna(uncash['[U01410000]영업활동으로 인한 현금흐름(*)(천원)'])"
   ]
  },
  {
   "cell_type": "code",
   "execution_count": 10,
   "metadata": {},
   "outputs": [],
   "source": [
    "uncash['외감영업현금흐름'] = 외감영업현금흐름"
   ]
  },
  {
   "cell_type": "code",
   "execution_count": 11,
   "metadata": {},
   "outputs": [],
   "source": [
    "uncash.drop(\n",
    "    labels=[\n",
    "        '[U01D100000000]영업활동으로 인한 현금흐름(간접법)(*)(IFRS연결)(천원)',\n",
    "        '[U01D100000000]영업활동으로 인한 현금흐름(간접법)(*)(IFRS)(천원)',\n",
    "        '[U01410000]영업활동으로 인한 현금흐름(*)(천원)'\n",
    "    ],\n",
    "    axis=1,\n",
    "    inplace=True\n",
    ")"
   ]
  },
  {
   "cell_type": "markdown",
   "metadata": {},
   "source": [
    "외감재무현금흐름"
   ]
  },
  {
   "cell_type": "code",
   "execution_count": 12,
   "metadata": {},
   "outputs": [],
   "source": [
    "외감재무현금흐름 = uncash['[U01D300000000]재무활동으로 인한 현금흐름(*)(IFRS연결)(천원)'].fillna(uncash['[U01D300000000]재무활동으로 인한 현금흐름(*)(IFRS)(천원)'])\n",
    "외감재무현금흐름 = 외감재무현금흐름.fillna(uncash['[U01450000]재무활동으로 인한 현금흐름(*)(천원)'])\n",
    "uncash['외감재무현금흐름'] = 외감재무현금흐름\n",
    "uncash.drop(\n",
    "    labels=[\n",
    "        '[U01D300000000]재무활동으로 인한 현금흐름(*)(IFRS연결)(천원)',\n",
    "        '[U01D300000000]재무활동으로 인한 현금흐름(*)(IFRS)(천원)',\n",
    "        '[U01450000]재무활동으로 인한 현금흐름(*)(천원)'\n",
    "    ],\n",
    "    axis=1,\n",
    "    inplace=True\n",
    ")"
   ]
  },
  {
   "cell_type": "markdown",
   "metadata": {},
   "source": [
    "외감투자현금흐름"
   ]
  },
  {
   "cell_type": "code",
   "execution_count": 13,
   "metadata": {},
   "outputs": [],
   "source": [
    "외감투자현금흐름 = uncash['[U01D200000000]투자활동으로 인한 현금흐름(*)(IFRS연결)(천원)'].fillna(uncash['[U01D200000000]투자활동으로 인한 현금흐름(*)(IFRS)(천원)'])\n",
    "외감투자현금흐름 = 외감투자현금흐름.fillna(uncash['[U01440000]투자활동으로 인한 현금흐름(*)(천원)'])\n",
    "uncash['외감투자현금흐름'] = 외감투자현금흐름\n",
    "uncash.drop(\n",
    "    labels=[\n",
    "        '[U01D200000000]투자활동으로 인한 현금흐름(*)(IFRS연결)(천원)',\n",
    "        '[U01D200000000]투자활동으로 인한 현금흐름(*)(IFRS)(천원)',\n",
    "        '[U01440000]투자활동으로 인한 현금흐름(*)(천원)'\n",
    "    ],\n",
    "    axis=1,\n",
    "    inplace=True\n",
    ")"
   ]
  },
  {
   "cell_type": "markdown",
   "metadata": {},
   "source": [
    "## 파생변수"
   ]
  },
  {
   "cell_type": "markdown",
   "metadata": {},
   "source": [
    "- OMI-CF : 영업현금흐름 - 투자현금흐름"
   ]
  },
  {
   "cell_type": "code",
   "execution_count": 14,
   "metadata": {},
   "outputs": [
    {
     "data": {
      "text/plain": [
       "Index(['회사명', '거래소코드', '회계년도', '외감영업현금흐름', '외감재무현금흐름', '외감투자현금흐름'], dtype='object')"
      ]
     },
     "execution_count": 14,
     "metadata": {},
     "output_type": "execute_result"
    }
   ],
   "source": [
    "uncash.columns"
   ]
  },
  {
   "cell_type": "code",
   "execution_count": 15,
   "metadata": {},
   "outputs": [],
   "source": [
    "# uncash['OMI(천원)'] = uncash['외감영업현금흐름'] - uncash['외감투자현금흐름']"
   ]
  },
  {
   "cell_type": "markdown",
   "metadata": {},
   "source": [
    "- OMS-CF : 영업현금흐름 - 재무현금흐름"
   ]
  },
  {
   "cell_type": "code",
   "execution_count": 16,
   "metadata": {},
   "outputs": [],
   "source": [
    "# uncash['OMS(천원)'] = uncash['외감영업현금흐름'] - uncash['외감재무현금흐름']"
   ]
  },
  {
   "cell_type": "markdown",
   "metadata": {},
   "source": [
    "- ODI-CF : 영업현금흐름 / 투자현금흐름"
   ]
  },
  {
   "cell_type": "code",
   "execution_count": 17,
   "metadata": {},
   "outputs": [],
   "source": [
    "uncash['영업투자현금비율'] = uncash['외감영업현금흐름'] / uncash['외감투자현금흐름']"
   ]
  },
  {
   "cell_type": "markdown",
   "metadata": {},
   "source": [
    "- ODS-CF : 영업현금흐름 / 재무현금흐름"
   ]
  },
  {
   "cell_type": "code",
   "execution_count": 18,
   "metadata": {},
   "outputs": [],
   "source": [
    "uncash['영업재무현금비율'] = uncash['외감영업현금흐름'] / uncash['외감재무현금흐름']"
   ]
  },
  {
   "cell_type": "code",
   "execution_count": 19,
   "metadata": {},
   "outputs": [
    {
     "data": {
      "text/plain": [
       "count     237822.000\n",
       "mean          78.785\n",
       "std        28201.163\n",
       "min     -5422131.857\n",
       "25%           -1.853\n",
       "50%           -0.456\n",
       "75%            0.412\n",
       "max      7569758.000\n",
       "Name: 영업투자현금비율, dtype: float64"
      ]
     },
     "execution_count": 19,
     "metadata": {},
     "output_type": "execute_result"
    }
   ],
   "source": [
    "uncash['영업투자현금비율'].describe()"
   ]
  },
  {
   "cell_type": "markdown",
   "metadata": {},
   "source": [
    "# to_csv"
   ]
  },
  {
   "cell_type": "code",
   "execution_count": 20,
   "metadata": {},
   "outputs": [
    {
     "data": {
      "text/plain": [
       "Index(['회사명', '거래소코드', '회계년도', '외감영업현금흐름', '외감재무현금흐름', '외감투자현금흐름', '영업투자현금비율',\n",
       "       '영업재무현금비율'],\n",
       "      dtype='object')"
      ]
     },
     "execution_count": 20,
     "metadata": {},
     "output_type": "execute_result"
    }
   ],
   "source": [
    "uncash.columns"
   ]
  },
  {
   "cell_type": "code",
   "execution_count": 21,
   "metadata": {},
   "outputs": [],
   "source": [
    "비상장현금흐름파생변수 = uncash.drop(\n",
    "    labels=[\n",
    "        '외감영업현금흐름', '외감재무현금흐름', '외감투자현금흐름'\n",
    "    ],\n",
    "    axis=1\n",
    ")"
   ]
  },
  {
   "cell_type": "code",
   "execution_count": 22,
   "metadata": {},
   "outputs": [],
   "source": [
    "비상장현금흐름파생변수.to_csv(\"../1.데이터셋/피처생성/비상장현금흐름파생변수.csv\")"
   ]
  },
  {
   "cell_type": "code",
   "execution_count": null,
   "metadata": {},
   "outputs": [],
   "source": []
  }
 ],
 "metadata": {
  "kernelspec": {
   "display_name": "Python 3",
   "language": "python",
   "name": "python3"
  },
  "language_info": {
   "codemirror_mode": {
    "name": "ipython",
    "version": 3
   },
   "file_extension": ".py",
   "mimetype": "text/x-python",
   "name": "python",
   "nbconvert_exporter": "python",
   "pygments_lexer": "ipython3",
   "version": "3.11.4"
  }
 },
 "nbformat": 4,
 "nbformat_minor": 2
}
