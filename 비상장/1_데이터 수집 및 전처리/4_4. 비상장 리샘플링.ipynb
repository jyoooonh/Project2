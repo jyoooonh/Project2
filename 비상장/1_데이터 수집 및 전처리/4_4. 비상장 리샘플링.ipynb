{
 "cells": [
  {
   "cell_type": "markdown",
   "metadata": {},
   "source": [
    "목적 : unlisted data Resampling\n",
    "==============\n",
    "목표 : 쌍대표본방식으로 Undersampling\n",
    "-----------------\n",
    "각 수명주기별 부실기업 표본수와 정상기업 표본수를 일치하도록 임의로 추출한다."
   ]
  },
  {
   "cell_type": "markdown",
   "metadata": {},
   "source": [
    "import modules"
   ]
  },
  {
   "cell_type": "code",
   "execution_count": 43,
   "metadata": {},
   "outputs": [
    {
     "name": "stdout",
     "output_type": "stream",
     "text": [
      "현재 디렉토리: /Users/haph/Study/ubion/Project2/비상장/2.데이터전처리\n"
     ]
    }
   ],
   "source": [
    "import pandas as pd\n",
    "import numpy as np\n",
    "\n",
    "#워닝 메시지\n",
    "import warnings\n",
    "warnings.filterwarnings('ignore')\n",
    "\n",
    "import os\n",
    "current_directory = os.getcwd()\n",
    "print(\"현재 디렉토리:\", current_directory)"
   ]
  },
  {
   "cell_type": "markdown",
   "metadata": {},
   "source": [
    "load files"
   ]
  },
  {
   "cell_type": "code",
   "execution_count": 44,
   "metadata": {},
   "outputs": [],
   "source": [
    "unlisted_winsorized_train = pd.read_csv(\"../1.데이터셋/Train_Test/unlisted_winsorized_train_data.csv\")"
   ]
  },
  {
   "cell_type": "markdown",
   "metadata": {},
   "source": [
    "# 데이터 확인"
   ]
  },
  {
   "cell_type": "code",
   "execution_count": 45,
   "metadata": {},
   "outputs": [
    {
     "data": {
      "text/plain": [
       "Index(['회사명', '거래소코드', '회계년도', 'CASH FLOW 대 부채비율', 'CASH FLOW 대 차입금비율',\n",
       "       'CASH FLOW 대 총자본비율', 'CASH FLOW 대 매출액비율', '유동비율', '당좌비율', '부채비율',\n",
       "       '유동부채비율', '차입금의존도', '순운전자본비율', '현금비율', '유동자산구성비율', '자기자본구성비율',\n",
       "       '자기자본순이익률', '경영자본순이익률', '매출액순이익률', '총자본사업이익률', '총자본영업이익률', '매출액영업이익률',\n",
       "       '금융비용부담률', 'CROE', '총자산증가율', '총자본증가율', '유동자산증가율', '비유동자산증가율', '매출액증가율',\n",
       "       '유형자산증가율', '부가가치', '총자본투자효율', '설비투자효율', '부가가치율', '이윤분배율', '자본분배율',\n",
       "       '총자산회전율', '매출채권회전률', '당좌자산회전률', '유형자산회전율', '경영자본회전률', '총자본회전률',\n",
       "       '비유동자산회전률', '유동자산회전률', '영업년수', '쭈피처', '영업투자현금비율', '영업재무현금비율', '도입기',\n",
       "       '성숙기', '성장기', '쇠퇴기', '부실판단'],\n",
       "      dtype='object')"
      ]
     },
     "execution_count": 45,
     "metadata": {},
     "output_type": "execute_result"
    }
   ],
   "source": [
    "unlisted_winsorized_train.columns"
   ]
  },
  {
   "cell_type": "code",
   "execution_count": 46,
   "metadata": {},
   "outputs": [
    {
     "data": {
      "text/plain": [
       "부실판단\n",
       "0.0    9381\n",
       "1.0    5463\n",
       "Name: count, dtype: int64"
      ]
     },
     "execution_count": 46,
     "metadata": {},
     "output_type": "execute_result"
    }
   ],
   "source": [
    "unlisted_winsorized_train['부실판단'].value_counts()"
   ]
  },
  {
   "cell_type": "code",
   "execution_count": 47,
   "metadata": {},
   "outputs": [
    {
     "data": {
      "text/plain": [
       "도입기  부실판단\n",
       "0    0.0     8083\n",
       "     1.0     3453\n",
       "1    1.0     2010\n",
       "     0.0     1298\n",
       "Name: count, dtype: int64"
      ]
     },
     "execution_count": 47,
     "metadata": {},
     "output_type": "execute_result"
    }
   ],
   "source": [
    "unlisted_winsorized_train[['도입기', '부실판단']].value_counts()"
   ]
  },
  {
   "cell_type": "code",
   "execution_count": 48,
   "metadata": {},
   "outputs": [
    {
     "data": {
      "text/plain": [
       "성장기  부실판단\n",
       "0    0.0     7174\n",
       "     1.0     4759\n",
       "1    0.0     2207\n",
       "     1.0      704\n",
       "Name: count, dtype: int64"
      ]
     },
     "execution_count": 48,
     "metadata": {},
     "output_type": "execute_result"
    }
   ],
   "source": [
    "unlisted_winsorized_train[['성장기', '부실판단']].value_counts()"
   ]
  },
  {
   "cell_type": "code",
   "execution_count": 49,
   "metadata": {},
   "outputs": [
    {
     "data": {
      "text/plain": [
       "성숙기  부실판단\n",
       "0    0.0     4900\n",
       "     1.0     4559\n",
       "1    0.0     4481\n",
       "     1.0      904\n",
       "Name: count, dtype: int64"
      ]
     },
     "execution_count": 49,
     "metadata": {},
     "output_type": "execute_result"
    }
   ],
   "source": [
    "unlisted_winsorized_train[['성숙기', '부실판단']].value_counts()"
   ]
  },
  {
   "cell_type": "code",
   "execution_count": 50,
   "metadata": {},
   "outputs": [
    {
     "data": {
      "text/plain": [
       "쇠퇴기  부실판단\n",
       "0    0.0     7986\n",
       "     1.0     3618\n",
       "1    1.0     1845\n",
       "     0.0     1395\n",
       "Name: count, dtype: int64"
      ]
     },
     "execution_count": 50,
     "metadata": {},
     "output_type": "execute_result"
    }
   ],
   "source": [
    "unlisted_winsorized_train[['쇠퇴기', '부실판단']].value_counts()"
   ]
  },
  {
   "cell_type": "markdown",
   "metadata": {},
   "source": [
    "# Undersampling 표본추출"
   ]
  },
  {
   "cell_type": "code",
   "execution_count": 51,
   "metadata": {},
   "outputs": [],
   "source": [
    "import pandas as pd\n",
    "from imblearn.under_sampling import RandomUnderSampler\n",
    "# 쌍대표본 방식의 언더샘플링 수행\n",
    "sampler = RandomUnderSampler(sampling_strategy='auto', random_state=42)\n",
    "\n",
    "# feature와 label을 하나의 csv 파일로 만들예정"
   ]
  },
  {
   "cell_type": "markdown",
   "metadata": {},
   "source": [
    "도입기 intro"
   ]
  },
  {
   "cell_type": "code",
   "execution_count": 52,
   "metadata": {},
   "outputs": [],
   "source": [
    "intro_X_train = unlisted_winsorized_train.loc[unlisted_winsorized_train['도입기'] == 1]\n",
    "intro_y_train = unlisted_winsorized_train.loc[unlisted_winsorized_train['도입기'] == 1]['부실판단']\n",
    "intro_X_resampled_train, intro_y_resampled_train = sampler.fit_resample(intro_X_train, intro_y_train)"
   ]
  },
  {
   "cell_type": "code",
   "execution_count": 53,
   "metadata": {},
   "outputs": [
    {
     "data": {
      "text/plain": [
       "도입기  부실판단\n",
       "1    0.0     1298\n",
       "     1.0     1298\n",
       "Name: count, dtype: int64"
      ]
     },
     "execution_count": 53,
     "metadata": {},
     "output_type": "execute_result"
    }
   ],
   "source": [
    "intro_X_resampled_train[['도입기', '부실판단']].value_counts()"
   ]
  },
  {
   "cell_type": "markdown",
   "metadata": {},
   "source": [
    "성장기 growth"
   ]
  },
  {
   "cell_type": "code",
   "execution_count": 54,
   "metadata": {},
   "outputs": [],
   "source": [
    "growth_X_train = unlisted_winsorized_train.loc[unlisted_winsorized_train['성장기'] == 1]\n",
    "growth_y_train = unlisted_winsorized_train.loc[unlisted_winsorized_train['성장기'] == 1]['부실판단']\n",
    "growth_X_resampled_train, growth_y_resampled_train = sampler.fit_resample(growth_X_train, growth_y_train)"
   ]
  },
  {
   "cell_type": "code",
   "execution_count": 55,
   "metadata": {},
   "outputs": [
    {
     "data": {
      "text/plain": [
       "성장기  부실판단\n",
       "1    0.0     704\n",
       "     1.0     704\n",
       "Name: count, dtype: int64"
      ]
     },
     "execution_count": 55,
     "metadata": {},
     "output_type": "execute_result"
    }
   ],
   "source": [
    "growth_X_resampled_train[['성장기', '부실판단']].value_counts()"
   ]
  },
  {
   "cell_type": "markdown",
   "metadata": {},
   "source": [
    "성숙기 maturity"
   ]
  },
  {
   "cell_type": "code",
   "execution_count": 56,
   "metadata": {},
   "outputs": [],
   "source": [
    "maturity_X_train = unlisted_winsorized_train.loc[unlisted_winsorized_train['성숙기'] == 1]\n",
    "maturity_y_train = unlisted_winsorized_train.loc[unlisted_winsorized_train['성숙기'] == 1]['부실판단']\n",
    "maturity_X_resampled_train, maturity_y_resampled_train = sampler.fit_resample(maturity_X_train, maturity_y_train)"
   ]
  },
  {
   "cell_type": "code",
   "execution_count": 57,
   "metadata": {},
   "outputs": [
    {
     "data": {
      "text/plain": [
       "성숙기  부실판단\n",
       "1    0.0     904\n",
       "     1.0     904\n",
       "Name: count, dtype: int64"
      ]
     },
     "execution_count": 57,
     "metadata": {},
     "output_type": "execute_result"
    }
   ],
   "source": [
    "maturity_X_resampled_train[['성숙기', '부실판단']].value_counts()"
   ]
  },
  {
   "cell_type": "markdown",
   "metadata": {},
   "source": [
    "쇠퇴기 decline"
   ]
  },
  {
   "cell_type": "code",
   "execution_count": 58,
   "metadata": {},
   "outputs": [],
   "source": [
    "decline_X_train = unlisted_winsorized_train.loc[unlisted_winsorized_train['쇠퇴기'] == 1]\n",
    "decline_y_train = unlisted_winsorized_train.loc[unlisted_winsorized_train['쇠퇴기'] == 1]['부실판단']\n",
    "decline_X_resampled_train, decline_y_resampled_train = sampler.fit_resample(decline_X_train, decline_y_train)"
   ]
  },
  {
   "cell_type": "code",
   "execution_count": 59,
   "metadata": {},
   "outputs": [
    {
     "data": {
      "text/plain": [
       "쇠퇴기  부실판단\n",
       "1    0.0     1395\n",
       "     1.0     1395\n",
       "Name: count, dtype: int64"
      ]
     },
     "execution_count": 59,
     "metadata": {},
     "output_type": "execute_result"
    }
   ],
   "source": [
    "decline_X_resampled_train[['쇠퇴기', '부실판단']].value_counts()"
   ]
  },
  {
   "cell_type": "markdown",
   "metadata": {},
   "source": [
    "# make csv file"
   ]
  },
  {
   "cell_type": "markdown",
   "metadata": {},
   "source": [
    "concat"
   ]
  },
  {
   "cell_type": "code",
   "execution_count": 60,
   "metadata": {},
   "outputs": [],
   "source": [
    "train_data = pd.concat([intro_X_resampled_train, growth_X_resampled_train, maturity_X_resampled_train, decline_X_resampled_train], axis=0, ignore_index=True)"
   ]
  },
  {
   "cell_type": "code",
   "execution_count": 61,
   "metadata": {},
   "outputs": [
    {
     "data": {
      "text/plain": [
       "쇠퇴기  부실판단\n",
       "0    0.0     2906\n",
       "     1.0     2906\n",
       "1    0.0     1395\n",
       "     1.0     1395\n",
       "Name: count, dtype: int64"
      ]
     },
     "execution_count": 61,
     "metadata": {},
     "output_type": "execute_result"
    }
   ],
   "source": [
    "train_data[['쇠퇴기', '부실판단']].value_counts()"
   ]
  },
  {
   "cell_type": "markdown",
   "metadata": {},
   "source": [
    "to_csv"
   ]
  },
  {
   "cell_type": "code",
   "execution_count": 62,
   "metadata": {},
   "outputs": [],
   "source": [
    "train_data.to_csv(\"../1.데이터셋/Train_Test/unlisted_resampled_train_data.csv\", index=False)"
   ]
  },
  {
   "cell_type": "code",
   "execution_count": 63,
   "metadata": {},
   "outputs": [
    {
     "data": {
      "text/plain": [
       "회사명                  0\n",
       "거래소코드                0\n",
       "회계년도                 0\n",
       "CASH FLOW 대 부채비율     0\n",
       "CASH FLOW 대 차입금비율    0\n",
       "CASH FLOW 대 총자본비율    0\n",
       "CASH FLOW 대 매출액비율    0\n",
       "유동비율                 0\n",
       "당좌비율                 0\n",
       "부채비율                 0\n",
       "유동부채비율               0\n",
       "차입금의존도               0\n",
       "순운전자본비율              0\n",
       "현금비율                 0\n",
       "유동자산구성비율             0\n",
       "자기자본구성비율             0\n",
       "자기자본순이익률             0\n",
       "경영자본순이익률             0\n",
       "매출액순이익률              0\n",
       "총자본사업이익률             0\n",
       "총자본영업이익률             0\n",
       "매출액영업이익률             0\n",
       "금융비용부담률              0\n",
       "CROE                 0\n",
       "총자산증가율               0\n",
       "총자본증가율               0\n",
       "유동자산증가율              0\n",
       "비유동자산증가율             0\n",
       "매출액증가율               0\n",
       "유형자산증가율              0\n",
       "부가가치                 0\n",
       "총자본투자효율              0\n",
       "설비투자효율               0\n",
       "부가가치율                0\n",
       "이윤분배율                0\n",
       "자본분배율                0\n",
       "총자산회전율               0\n",
       "매출채권회전률              0\n",
       "당좌자산회전률              0\n",
       "유형자산회전율              0\n",
       "경영자본회전률              0\n",
       "총자본회전률               0\n",
       "비유동자산회전률             0\n",
       "유동자산회전률              0\n",
       "영업년수                 0\n",
       "쭈피처                  0\n",
       "영업투자현금비율             0\n",
       "영업재무현금비율             0\n",
       "도입기                  0\n",
       "성숙기                  0\n",
       "성장기                  0\n",
       "쇠퇴기                  0\n",
       "부실판단                 0\n",
       "dtype: int64"
      ]
     },
     "execution_count": 63,
     "metadata": {},
     "output_type": "execute_result"
    }
   ],
   "source": [
    "train_data.isna().sum()"
   ]
  },
  {
   "cell_type": "code",
   "execution_count": null,
   "metadata": {},
   "outputs": [],
   "source": []
  }
 ],
 "metadata": {
  "kernelspec": {
   "display_name": "Python 3",
   "language": "python",
   "name": "python3"
  },
  "language_info": {
   "codemirror_mode": {
    "name": "ipython",
    "version": 3
   },
   "file_extension": ".py",
   "mimetype": "text/x-python",
   "name": "python",
   "nbconvert_exporter": "python",
   "pygments_lexer": "ipython3",
   "version": "3.11.4"
  }
 },
 "nbformat": 4,
 "nbformat_minor": 2
}
