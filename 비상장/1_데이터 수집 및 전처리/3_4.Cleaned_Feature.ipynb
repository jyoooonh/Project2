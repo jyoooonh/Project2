{
 "cells": [
  {
   "cell_type": "code",
   "execution_count": null,
   "metadata": {},
   "outputs": [],
   "source": [
    "import pandas as pd\n",
    "\n",
    "pd.set_option(\"display.max_seq_items\", None)\n",
    "pd.set_option(\"display.max_columns\", None)"
   ]
  },
  {
   "cell_type": "code",
   "execution_count": null,
   "metadata": {},
   "outputs": [],
   "source": [
    "audit = pd.read_csv(\"../1.데이터셋/Feature/3.재무비율+부실+수명주기.csv\", index_col=0)\n",
    "audit.columns"
   ]
  },
  {
   "cell_type": "code",
   "execution_count": null,
   "metadata": {},
   "outputs": [],
   "source": [
    "col_list = [\n",
    "    \"회사명\",\n",
    "    \"거래소코드\",\n",
    "    \"회계년도\",\n",
    "    ###### 현금흐름(4) ########\n",
    "    \"CASH FLOW 대 부채비율\",\n",
    "    \"CASH FLOW 대 차입금비율\",\n",
    "    \"CASH FLOW 대 총자본비율\",\n",
    "    \"CASH FLOW 대 매출액비율\",\n",
    "    ###### 안정성(9) ########\n",
    "    \"유동비율\",\n",
    "    \"당좌비율\",\n",
    "    \"부채비율\",\n",
    "    \"유동부채비율\",\n",
    "    \"차입금의존도\",\n",
    "    \"순운전자본비율\",\n",
    "    \"현금비율\",\n",
    "    \"유동자산구성비율\",\n",
    "    \"자기자본구성비율\",\n",
    "    ###### 수익성(8) ########\n",
    "    \"자기자본순이익률\",\n",
    "    \"경영자본순이익률\",\n",
    "    \"매출액순이익률\",\n",
    "    \"총자본사업이익률\",\n",
    "    \"총자본영업이익률\",\n",
    "    \"매출액영업이익률\",\n",
    "    \"금융비용부담률\",\n",
    "    \"CROE\",\n",
    "    ###### 성장성(6) ########\n",
    "    \"총자산증가율\",\n",
    "    \"총자본증가율\",\n",
    "    \"유동자산증가율\",\n",
    "    \"비유동자산증가율\",\n",
    "    \"매출액증가율\",\n",
    "    \"유형자산증가율\",\n",
    "    ###### 생산성(6) ########\n",
    "    \"부가가치(백만원)\",\n",
    "    \"총자본투자효율\",\n",
    "    \"설비투자효율\",\n",
    "    \"부가가치율\",\n",
    "    \"이윤분배율\",\n",
    "    \"자본분배율\",\n",
    "    ###### 활동성(8) ########\n",
    "    \"총자산회전율\",\n",
    "    \"매출채권회전률\",\n",
    "    \"당좌자산회전률\",\n",
    "    \"유형자산회전율\",\n",
    "    \"경영자본회전률\",\n",
    "    \"총자본회전률\",\n",
    "    \"비유동자산회전률\",\n",
    "    \"유동자산회전률\",\n",
    "    ###### 기타(11) ########\n",
    "    \"영업년수\",\n",
    "    \"new_feature\",\n",
    "    \"영업투자현금비율\",\n",
    "    \"영업재무현금비율\",\n",
    "    \"기업수명주기\",\n",
    "    \"부실판단\",\n",
    "]"
   ]
  },
  {
   "cell_type": "code",
   "execution_count": null,
   "metadata": {},
   "outputs": [],
   "source": [
    "len(col_list)"
   ]
  },
  {
   "cell_type": "code",
   "execution_count": null,
   "metadata": {},
   "outputs": [],
   "source": [
    "audit = audit[col_list]\n",
    "audit"
   ]
  },
  {
   "cell_type": "code",
   "execution_count": null,
   "metadata": {},
   "outputs": [],
   "source": [
    "audit[\"부실판단\"].isna().sum()"
   ]
  },
  {
   "cell_type": "code",
   "execution_count": null,
   "metadata": {},
   "outputs": [],
   "source": [
    "audit.columns = [\n",
    "    \"회사명\",\n",
    "    \"거래소코드\",\n",
    "    \"회계년도\",\n",
    "    ###### 현금흐름(4) ########\n",
    "    \"CASH FLOW 대 부채비율\",\n",
    "    \"CASH FLOW 대 차입금비율\",\n",
    "    \"CASH FLOW 대 총자본비율\",\n",
    "    \"CASH FLOW 대 매출액비율\",\n",
    "    ###### 안정성(9) ########\n",
    "    \"유동비율\",\n",
    "    \"당좌비율\",\n",
    "    \"부채비율\",\n",
    "    \"유동부채비율\",\n",
    "    \"차입금의존도\",\n",
    "    \"순운전자본비율\",\n",
    "    \"현금비율\",\n",
    "    \"유동자산구성비율\",\n",
    "    \"자기자본구성비율\",\n",
    "    ###### 수익성(8) ########\n",
    "    \"자기자본순이익률\",\n",
    "    \"경영자본순이익률\",\n",
    "    \"매출액순이익률\",\n",
    "    \"총자본사업이익률\",\n",
    "    \"총자본영업이익률\",\n",
    "    \"매출액영업이익률\",\n",
    "    \"금융비용부담률\",\n",
    "    \"CROE\",\n",
    "    ###### 성장성(6) ########\n",
    "    \"총자산증가율\",\n",
    "    \"총자본증가율\",\n",
    "    \"유동자산증가율\",\n",
    "    \"비유동자산증가율\",\n",
    "    \"매출액증가율\",\n",
    "    \"유형자산증가율\",\n",
    "    ###### 생산성(6) ########\n",
    "    \"부가가치\",\n",
    "    \"총자본투자효율\",\n",
    "    \"설비투자효율\",\n",
    "    \"부가가치율\",\n",
    "    \"이윤분배율\",\n",
    "    \"자본분배율\",\n",
    "    ###### 활동성(8) ########\n",
    "    \"총자산회전율\",\n",
    "    \"매출채권회전률\",\n",
    "    \"당좌자산회전률\",\n",
    "    \"유형자산회전율\",\n",
    "    \"경영자본회전률\",\n",
    "    \"총자본회전률\",\n",
    "    \"비유동자산회전률\",\n",
    "    \"유동자산회전률\",\n",
    "    ###### 기타(4) ########\n",
    "    \"영업년수\",\n",
    "    \"쭈피처\",\n",
    "    \"영업투자현금비율\",\n",
    "    \"영업재무현금비율\",\n",
    "    \"기업수명주기\",\n",
    "    \"부실판단\",\n",
    "]"
   ]
  },
  {
   "cell_type": "code",
   "execution_count": null,
   "metadata": {},
   "outputs": [],
   "source": [
    "audit = audit.dropna(subset=[\"부실판단\"], axis=0)"
   ]
  },
  {
   "cell_type": "code",
   "execution_count": null,
   "metadata": {},
   "outputs": [],
   "source": [
    "audit[\"기업수명주기\"].isna().sum()"
   ]
  },
  {
   "cell_type": "code",
   "execution_count": null,
   "metadata": {},
   "outputs": [],
   "source": [
    "audit = audit.dropna(subset=[\"기업수명주기\"], axis=0)"
   ]
  },
  {
   "cell_type": "code",
   "execution_count": null,
   "metadata": {},
   "outputs": [],
   "source": [
    "audit.isna().sum()"
   ]
  },
  {
   "cell_type": "code",
   "execution_count": null,
   "metadata": {},
   "outputs": [],
   "source": [
    "audit[\"zero_count\"] = audit.apply(lambda row: row.value_counts().get(0, 0), axis=1)\n",
    "audit = audit[audit[\"zero_count\"] <= 4]\n",
    "audit = audit.drop([\"zero_count\"], axis=1)"
   ]
  },
  {
   "cell_type": "code",
   "execution_count": null,
   "metadata": {},
   "outputs": [],
   "source": [
    "#audit[\"zero_count\"].quantile(0.8)"
   ]
  },
  {
   "cell_type": "code",
   "execution_count": null,
   "metadata": {},
   "outputs": [],
   "source": [
    "# get_dummies() 함수를 사용하여 '기업수명주기' 열을 더미 변수로 변환\n",
    "df_dummy = pd.get_dummies(audit[\"기업수명주기\"], prefix=\"기업수명주기\")\n",
    "\n",
    "# 데이터프레임에 더미 변수 추가\n",
    "audit = pd.concat([audit, df_dummy], axis=1)\n",
    "\n",
    "# '기업수명주기' 열을 더미 변수로 변환하기 전 열 제거\n",
    "audit.drop(columns=[\"기업수명주기\"], axis=1, inplace=True, errors=\"ignore\")"
   ]
  },
  {
   "cell_type": "code",
   "execution_count": null,
   "metadata": {},
   "outputs": [],
   "source": [
    "# '기업수명주기' 열을 정수형으로 변환 (0 또는 1)\n",
    "audit[[\"기업수명주기_도입기\", \"기업수명주기_성숙기\", \"기업수명주기_성장기\", \"기업수명주기_쇠퇴기\"]] = audit[\n",
    "    [\"기업수명주기_도입기\", \"기업수명주기_성숙기\", \"기업수명주기_성장기\", \"기업수명주기_쇠퇴기\"]\n",
    "].astype(int)"
   ]
  },
  {
   "cell_type": "code",
   "execution_count": null,
   "metadata": {},
   "outputs": [],
   "source": [
    "audit.rename(\n",
    "    columns={\n",
    "        \"기업수명주기_도입기\": \"도입기\",\n",
    "        \"기업수명주기_성숙기\": \"성숙기\",\n",
    "        \"기업수명주기_성장기\": \"성장기\",\n",
    "        \"기업수명주기_쇠퇴기\": \"쇠퇴기\",\n",
    "    },\n",
    "    inplace=True,\n",
    ")"
   ]
  },
  {
   "cell_type": "code",
   "execution_count": null,
   "metadata": {},
   "outputs": [],
   "source": [
    "audit"
   ]
  },
  {
   "cell_type": "markdown",
   "metadata": {},
   "source": [
    "#### 순서 바꾸고 결측치 채우고 to_csv"
   ]
  },
  {
   "cell_type": "code",
   "execution_count": null,
   "metadata": {},
   "outputs": [],
   "source": [
    "audit.drop_duplicates(keep=\"first\", inplace=True, ignore_index=False)"
   ]
  },
  {
   "cell_type": "code",
   "execution_count": null,
   "metadata": {},
   "outputs": [],
   "source": [
    "audit =audit.reset_index(drop=True)"
   ]
  },
  {
   "cell_type": "code",
   "execution_count": null,
   "metadata": {},
   "outputs": [],
   "source": [
    "audit = audit.fillna({\"CROE\": 0, \"총자산증가율\": 0, '총자산회전율': 0, '영업년수':0, '쭈피처':0})"
   ]
  },
  {
   "cell_type": "code",
   "execution_count": null,
   "metadata": {},
   "outputs": [],
   "source": [
    "audit.isna().sum()"
   ]
  },
  {
   "cell_type": "code",
   "execution_count": null,
   "metadata": {},
   "outputs": [],
   "source": [
    "audit.to_csv(\"../1.데이터셋/Feature/4.비상장_Clean_Feature.csv\", index=False)"
   ]
  },
  {
   "cell_type": "code",
   "execution_count": null,
   "metadata": {},
   "outputs": [],
   "source": []
  }
 ],
 "metadata": {
  "kernelspec": {
   "display_name": "Python 3",
   "language": "python",
   "name": "python3"
  },
  "language_info": {
   "codemirror_mode": {
    "name": "ipython",
    "version": 3
   },
   "file_extension": ".py",
   "mimetype": "text/x-python",
   "name": "python",
   "nbconvert_exporter": "python",
   "pygments_lexer": "ipython3",
   "version": "3.11.4"
  }
 },
 "nbformat": 4,
 "nbformat_minor": 2
}
